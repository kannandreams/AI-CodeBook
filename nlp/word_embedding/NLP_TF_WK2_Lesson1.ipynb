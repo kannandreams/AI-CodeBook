{
  "nbformat": 4,
  "nbformat_minor": 0,
  "metadata": {
    "colab": {
      "name": "NLP_TF_WK2_Lesson1.ipynb",
      "provenance": [],
      "authorship_tag": "ABX9TyMSfMcgkw5fUsmefhU2Bd2Q"
    },
    "kernelspec": {
      "name": "python3",
      "display_name": "Python 3"
    }
  },
  "cells": [
    {
      "cell_type": "code",
      "metadata": {
        "id": "dFQiteSnZTjc",
        "colab_type": "code",
        "colab": {
          "base_uri": "https://localhost:8080/",
          "height": 34
        },
        "outputId": "f8eef719-aeb4-4c06-abef-7234524c151a"
      },
      "source": [
        "import tensorflow as tf\n",
        "print(tf.__version__)\n",
        "tf.enable_eager_execution()\n"
      ],
      "execution_count": 9,
      "outputs": [
        {
          "output_type": "stream",
          "text": [
            "1.15.0\n"
          ],
          "name": "stdout"
        }
      ]
    },
    {
      "cell_type": "code",
      "metadata": {
        "id": "sbpBFCNbaC5M",
        "colab_type": "code",
        "colab": {}
      },
      "source": [
        "import tensorflow_datasets as tfds\n",
        "imdb,info = tfds.load('imdb_reviews',with_info=True,as_supervised=True)\n"
      ],
      "execution_count": 0,
      "outputs": []
    },
    {
      "cell_type": "code",
      "metadata": {
        "id": "ES4E7w0NaTP-",
        "colab_type": "code",
        "colab": {}
      },
      "source": [
        "import numpy as np\n",
        "\n",
        "train_data,test_data = imdb['train'],imdb['test']\n",
        "train_sentences=[]\n",
        "test_sentences=[]\n",
        "\n",
        "train_labels=[]\n",
        "test_labels=[]\n",
        "\n",
        "for s,l in train_data:\n",
        "  train_sentences.append(str(s.numpy()))\n",
        "  train_labels.append(l.numpy())\n",
        "\n",
        "for s,l in test_data:\n",
        "  test_sentences.append(str(s.numpy()))\n",
        "  test_labels.append(l.numpy())\n",
        "\n"
      ],
      "execution_count": 0,
      "outputs": []
    },
    {
      "cell_type": "code",
      "metadata": {
        "id": "e_a_dMeSHRI-",
        "colab_type": "code",
        "colab": {}
      },
      "source": [
        "#sentence encoding\n",
        "vocab_size = 10000 \n",
        "embedding_dim = 16\n",
        "max_length = 120 # review length\n",
        "trunc_type='post'\n",
        "oov_token=\"<oov\"\n",
        "\n",
        "# Steps : Tokenize -> create word index -> convert to sequences -> do padding for same size -> testing sequences should be tokenized based on training word index\n",
        "\n",
        "from tensorflow.keras.preprocessing.text import Tokenizer\n",
        "from tensorflow.keras.preprocessing.sequence import pad_sequences\n",
        "\n",
        "tokenizer = Tokenizer(num_words=vocab_size,oov_token=oov_token)\n",
        "tokenizer.fit_on_texts(train_sentences)\n",
        "word_index = tokenizer.word_index\n",
        "\n",
        "sequences = tokenizer.texts_to_sequences(train_sentences)\n",
        "padded = pad_sequences(sequences,maxlen=max_length,truncating=trunc_type)\n",
        "\n",
        "test_sequences = tokenizer.texts_to_sequences(test_sentences)\n",
        "test_padded = pad_sequences(test_sequences,maxlen=max_length)"
      ],
      "execution_count": 0,
      "outputs": []
    },
    {
      "cell_type": "code",
      "metadata": {
        "id": "m0-kt8C8KvC5",
        "colab_type": "code",
        "colab": {
          "base_uri": "https://localhost:8080/",
          "height": 289
        },
        "outputId": "d60f3a9c-5957-4b25-a82a-5c55c984b6b3"
      },
      "source": [
        "#define  the NN\n",
        "model = keras.Sequential([\n",
        "              keras.layers.Embedding(vocab_size,embedding_dim,input_length=max_length),\n",
        "              keras.layers.Flatten(),\n",
        "              keras.layers.Dense(6,activation='relu'),\n",
        "              keras.layers.Dense(1,activation='sigmoid') # two classes , so one neuron\n",
        "])\n",
        "\n",
        "model.compile(loss='binary_crossentropy',optimizer='adam',metrics=['accuracy'])\n",
        "model.summary()"
      ],
      "execution_count": 35,
      "outputs": [
        {
          "output_type": "stream",
          "text": [
            "Model: \"sequential_1\"\n",
            "_________________________________________________________________\n",
            "Layer (type)                 Output Shape              Param #   \n",
            "=================================================================\n",
            "embedding (Embedding)        (None, 120, 16)           160000    \n",
            "_________________________________________________________________\n",
            "flatten (Flatten)            (None, 1920)              0         \n",
            "_________________________________________________________________\n",
            "dense_1 (Dense)              (None, 6)                 11526     \n",
            "_________________________________________________________________\n",
            "dense_2 (Dense)              (None, 1)                 7         \n",
            "=================================================================\n",
            "Total params: 171,533\n",
            "Trainable params: 171,533\n",
            "Non-trainable params: 0\n",
            "_________________________________________________________________\n"
          ],
          "name": "stdout"
        }
      ]
    },
    {
      "cell_type": "code",
      "metadata": {
        "id": "o52NxEmjMI5y",
        "colab_type": "code",
        "colab": {
          "base_uri": "https://localhost:8080/",
          "height": 513
        },
        "outputId": "f86aae8b-5867-47cd-f4a3-f085e047117c"
      },
      "source": [
        "model.fit(padded,\n",
        "          np.array(train_labels),\n",
        "          epochs=10,\n",
        "          validation_data=(test_padded,np.array(test_labels))\n",
        "          )"
      ],
      "execution_count": 39,
      "outputs": [
        {
          "output_type": "stream",
          "text": [
            "Train on 25000 samples, validate on 25000 samples\n",
            "Epoch 1/10\n",
            "WARNING:tensorflow:From /usr/local/lib/python3.6/dist-packages/tensorflow_core/python/ops/nn_impl.py:183: where (from tensorflow.python.ops.array_ops) is deprecated and will be removed in a future version.\n",
            "Instructions for updating:\n",
            "Use tf.where in 2.0, which has the same broadcast rule as np.where\n"
          ],
          "name": "stdout"
        },
        {
          "output_type": "stream",
          "text": [
            "WARNING:tensorflow:From /usr/local/lib/python3.6/dist-packages/tensorflow_core/python/ops/nn_impl.py:183: where (from tensorflow.python.ops.array_ops) is deprecated and will be removed in a future version.\n",
            "Instructions for updating:\n",
            "Use tf.where in 2.0, which has the same broadcast rule as np.where\n"
          ],
          "name": "stderr"
        },
        {
          "output_type": "stream",
          "text": [
            "25000/25000 [==============================] - 6s 249us/sample - loss: 0.5131 - acc: 0.7256 - val_loss: 0.3544 - val_acc: 0.8460\n",
            "Epoch 2/10\n",
            "25000/25000 [==============================] - 6s 226us/sample - loss: 0.2451 - acc: 0.9044 - val_loss: 0.3673 - val_acc: 0.8415\n",
            "Epoch 3/10\n",
            "25000/25000 [==============================] - 5s 215us/sample - loss: 0.0943 - acc: 0.9754 - val_loss: 0.4458 - val_acc: 0.8279\n",
            "Epoch 4/10\n",
            "25000/25000 [==============================] - 5s 207us/sample - loss: 0.0261 - acc: 0.9967 - val_loss: 0.5178 - val_acc: 0.8263\n",
            "Epoch 5/10\n",
            "25000/25000 [==============================] - 5s 211us/sample - loss: 0.0113 - acc: 0.9985 - val_loss: 0.5730 - val_acc: 0.8241\n",
            "Epoch 6/10\n",
            "25000/25000 [==============================] - 5s 209us/sample - loss: 0.0052 - acc: 0.9993 - val_loss: 0.6280 - val_acc: 0.8201\n",
            "Epoch 7/10\n",
            "25000/25000 [==============================] - 5s 208us/sample - loss: 0.0018 - acc: 0.9998 - val_loss: 0.6901 - val_acc: 0.8205\n",
            "Epoch 8/10\n",
            "25000/25000 [==============================] - 5s 206us/sample - loss: 6.3580e-04 - acc: 1.0000 - val_loss: 0.7298 - val_acc: 0.8228\n",
            "Epoch 9/10\n",
            "25000/25000 [==============================] - 5s 207us/sample - loss: 8.3156e-04 - acc: 0.9999 - val_loss: 0.8022 - val_acc: 0.8219\n",
            "Epoch 10/10\n",
            "25000/25000 [==============================] - 5s 208us/sample - loss: 2.7036e-04 - acc: 1.0000 - val_loss: 0.8260 - val_acc: 0.8246\n"
          ],
          "name": "stdout"
        },
        {
          "output_type": "execute_result",
          "data": {
            "text/plain": [
              "<tensorflow.python.keras.callbacks.History at 0x7f1cfae7bc50>"
            ]
          },
          "metadata": {
            "tags": []
          },
          "execution_count": 39
        }
      ]
    },
    {
      "cell_type": "markdown",
      "metadata": {
        "id": "xItGLbp5NL3U",
        "colab_type": "text"
      },
      "source": [
        "**To view this in tensorflow embedding projector**"
      ]
    },
    {
      "cell_type": "code",
      "metadata": {
        "id": "mw9XLgy7MvoH",
        "colab_type": "code",
        "colab": {
          "base_uri": "https://localhost:8080/",
          "height": 255
        },
        "outputId": "23163200-ec69-4d0f-c699-da12fde5717f"
      },
      "source": [
        "weights = model.layers[0].get_weights()[0]\n",
        "print(weights.shape)\n",
        "print(weights)"
      ],
      "execution_count": 50,
      "outputs": [
        {
          "output_type": "stream",
          "text": [
            "(10000, 16)\n",
            "[[ 2.3717916e-02 -4.1335560e-02  4.8740409e-02 ... -5.4761455e-03\n",
            "   2.5576169e-02 -2.4499504e-02]\n",
            " [ 5.5061463e-02 -7.9436496e-02  6.8881005e-02 ... -5.3180512e-03\n",
            "  -1.2371118e-02 -7.7541757e-05]\n",
            " [ 3.9728680e-03 -5.2733060e-02  9.4237372e-02 ...  2.5939497e-03\n",
            "   6.0456324e-02 -3.9922852e-02]\n",
            " ...\n",
            " [-1.6018631e-01 -9.2584811e-02 -3.5184532e-02 ...  1.1890968e-01\n",
            "   9.6716762e-02  2.3366053e-02]\n",
            " [-2.5773803e-02 -2.8773749e-02  6.6927269e-02 ... -4.8390757e-02\n",
            "   2.8916422e-02  2.7901145e-02]\n",
            " [ 3.5977900e-02 -1.1615841e-01 -8.4580844e-03 ... -7.0351437e-02\n",
            "  -5.8211260e-02  6.4553164e-02]]\n"
          ],
          "name": "stdout"
        }
      ]
    },
    {
      "cell_type": "code",
      "metadata": {
        "id": "QrhGcwbpNh94",
        "colab_type": "code",
        "colab": {}
      },
      "source": [
        "# generate vector and meta auto files to upload in embedding projector and visualize\n",
        "\n",
        "\n",
        "import io\n",
        "\n",
        "reverse_word_index = dict([(value,key) for (key,value) in word_index.items()])\n",
        "\n",
        "vectors = io.open(\"imdb_vectors.tsv\",'w',encoding='utf-8')\n",
        "meta = io.open(\"imdb_meta.tsv\",'w',encoding='utf-8')\n",
        "\n",
        "for word_num in range(1,vocab_size):\n",
        "  word = reverse_word_index[word_num]\n",
        "  embeddings = weights[word_num]\n",
        "  meta.write(word + \"\\n\")\n",
        "  vectors.write('\\t'.join([str(w) for w in embeddings]) + \"\\n\")\n",
        "\n",
        "vectors.close()\n",
        "meta.close()"
      ],
      "execution_count": 0,
      "outputs": []
    },
    {
      "cell_type": "code",
      "metadata": {
        "id": "O9AFRaVNNrP6",
        "colab_type": "code",
        "colab": {}
      },
      "source": [
        "# download the file\n",
        "\n",
        "try:\n",
        "  from google.colab import files\n",
        "except ImportError:\n",
        "  pass\n",
        "else:\n",
        "  files.download(\"imdb_vectors.tsv\")\n",
        "  files.download(\"imdb_meta.tsv\")"
      ],
      "execution_count": 0,
      "outputs": []
    },
    {
      "cell_type": "markdown",
      "metadata": {
        "id": "CVNHWvlPRQ87",
        "colab_type": "text"
      },
      "source": [
        "Go to https://projector.tensorflow.org/\n",
        "\n",
        "1. Load the vector and meta files\n",
        "2. visualize it."
      ]
    }
  ]
}