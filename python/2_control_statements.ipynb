{
 "cells": [
  {
   "cell_type": "markdown",
   "metadata": {},
   "source": [
    "### Packing and unpacking\n",
    "\n",
    "- Unpacking actually works with any object that happens to be iterable not just tuples or lists. \n",
    "- This includes strings, files, iterators, and generators. \n",
    "- You need to unpack N elements from an iterable, but the iterable may be longer than N elements, causing a “too many values to unpack” exception.\n",
    "\n"
   ]
  },
  {
   "cell_type": "code",
   "execution_count": 4,
   "metadata": {},
   "outputs": [
    {
     "name": "stdout",
     "output_type": "stream",
     "text": [
      "4 5\n",
      "H e l l o\n"
     ]
    }
   ],
   "source": [
    "p= (4, 5)\n",
    "x, y = p\n",
    "print(x,y)\n",
    " \n",
    "s = 'Hello'\n",
    "a, b, c, d, e = s\n",
    "print(a,b,c,d,e)"
   ]
  },
  {
   "cell_type": "code",
   "execution_count": 5,
   "metadata": {},
   "outputs": [
    {
     "name": "stdout",
     "output_type": "stream",
     "text": [
      "50 91.1 (2012, 12, 21)\n"
     ]
    }
   ],
   "source": [
    "data = [ 'ACME', 50, 91.1, (2012, 12, 21) ]\n",
    "_, shares, price, _ = data\n",
    "print(shares,price,_)\n",
    "## _ variable is just dummpy placeholder"
   ]
  },
  {
   "cell_type": "code",
   "execution_count": 8,
   "metadata": {},
   "outputs": [
    {
     "name": "stdout",
     "output_type": "stream",
     "text": [
      "Dave dave@example.com ['773-555-1212', '847-555-1212']\n"
     ]
    }
   ],
   "source": [
    "record = ('Dave', 'dave@example.com', '773-555-1212', '847-555-1212')\n",
    "name, email, *phone_numbers = record\n",
    "print(name,email,phone_numbers)\n"
   ]
  },
  {
   "cell_type": "code",
   "execution_count": 12,
   "metadata": {},
   "outputs": [],
   "source": [
    "# The starred variable can also be the first one in the list.\n",
    "\n",
    "# *trailing_qtrs, current_qtr = sales_record \n"
   ]
  },
  {
   "cell_type": "code",
   "execution_count": 14,
   "metadata": {},
   "outputs": [
    {
     "name": "stdout",
     "output_type": "stream",
     "text": [
      "nobody ['*', '-2', '-2', 'Unprivileged User'] /var/empty /usr/bin/false\n"
     ]
    }
   ],
   "source": [
    "line = 'nobody:*:-2:-2:Unprivileged User:/var/empty:/usr/bin/false'\n",
    "uname, *fields, homedir, sh = line.split(':')\n",
    "print(uname,fields,homedir,sh)"
   ]
  },
  {
   "cell_type": "markdown",
   "metadata": {},
   "source": [
    "### heapq library"
   ]
  },
  {
   "cell_type": "code",
   "execution_count": 16,
   "metadata": {},
   "outputs": [
    {
     "name": "stdout",
     "output_type": "stream",
     "text": [
      "[42, 37, 23]\n"
     ]
    }
   ],
   "source": [
    "import heapq\n",
    "nums = [1, 8, 2, 23, 7, -4, 18, 23, 42, 37, 2] \n",
    "print(heapq.nlargest(3, nums))"
   ]
  },
  {
   "cell_type": "markdown",
   "metadata": {},
   "source": [
    "### Counter library"
   ]
  },
  {
   "cell_type": "code",
   "execution_count": 18,
   "metadata": {},
   "outputs": [
    {
     "name": "stdout",
     "output_type": "stream",
     "text": [
      "[('eyes', 8), ('the', 5), ('look', 4)]\n"
     ]
    }
   ],
   "source": [
    "words = [\n",
    "       'look', 'into', 'my', 'eyes', 'look', 'into', 'my', 'eyes',\n",
    "       'the', 'eyes', 'the', 'eyes', 'the', 'eyes', 'not', 'around', 'the',\n",
    "       'eyes', \"don't\", 'look', 'around', 'the', 'eyes', 'look', 'into',\n",
    "       'my', 'eyes', \"you're\", 'under'\n",
    "]\n",
    "from collections import Counter \n",
    "word_counts = Counter(words)\n",
    "top_three = word_counts.most_common(3) \n",
    "print(top_three)"
   ]
  },
  {
   "cell_type": "markdown",
   "metadata": {},
   "source": [
    "### Random numbers library"
   ]
  },
  {
   "cell_type": "code",
   "execution_count": 53,
   "metadata": {},
   "outputs": [
    {
     "name": "stdout",
     "output_type": "stream",
     "text": [
      "0.5519552287457458\n",
      "0.2585596800908486\n",
      "0.09870064810633661\n",
      "0.07372467771949165\n",
      "0.7009533067834612\n",
      "0.29686974700186997\n",
      "0.026735816146235325\n",
      "0.9774000015289901\n",
      "0.37982587232851817\n",
      "0.8082839158897537\n"
     ]
    },
    {
     "data": {
      "text/plain": [
       "1"
      ]
     },
     "execution_count": 53,
     "metadata": {},
     "output_type": "execute_result"
    }
   ],
   "source": [
    "import random\n",
    "for i in range(10):\n",
    "    x = random.random()\n",
    "    print(x)\n",
    " \n",
    "t = [1, 2, 3]\n",
    "random.choice(t)"
   ]
  },
  {
   "cell_type": "markdown",
   "metadata": {},
   "source": [
    "### Functions\n",
    "\n",
    "- When you create a variable inside a function, it is local, which means that it only exists inside the function.\n",
    "- void functions and fruitful functions."
   ]
  },
  {
   "cell_type": "code",
   "execution_count": 22,
   "metadata": {},
   "outputs": [
    {
     "name": "stdout",
     "output_type": "stream",
     "text": [
      "hihello\n"
     ]
    }
   ],
   "source": [
    "def hello():\n",
    "    print(\"hello\")\n",
    "    \n",
    "def twice(part1,part2):\n",
    "    cat = part1 + part2\n",
    "    return cat\n",
    "\n",
    "print(twice(\"hi\",\"hello\"))\n",
    "#print(cat)"
   ]
  },
  {
   "cell_type": "markdown",
   "metadata": {},
   "source": [
    "### Conditional Statement"
   ]
  },
  {
   "cell_type": "code",
   "execution_count": 31,
   "metadata": {},
   "outputs": [
    {
     "name": "stdout",
     "output_type": "stream",
     "text": [
      "3\n"
     ]
    }
   ],
   "source": [
    "x=222\n",
    "if x >= 0 and x < 10:\n",
    "    digits = 1\n",
    "elif x >= 10 and x < 100:\n",
    "    digits = 2\n",
    "elif x >= 100 and x < 1000:\n",
    "    digits = 3\n",
    "elif x >= 1000 and x < 10000:\n",
    "    digits = 4\n",
    "else :\n",
    "    digits = 0 # more than 4\n",
    "    \n",
    "print(digits)"
   ]
  },
  {
   "cell_type": "code",
   "execution_count": 32,
   "metadata": {},
   "outputs": [
    {
     "name": "stdout",
     "output_type": "stream",
     "text": [
      "a\n"
     ]
    }
   ],
   "source": [
    "if True:\n",
    "    print(\"a\")\n",
    "else:\n",
    "    print(\"no\")"
   ]
  },
  {
   "cell_type": "code",
   "execution_count": 33,
   "metadata": {},
   "outputs": [
    {
     "name": "stdout",
     "output_type": "stream",
     "text": [
      "x is greater than y\n"
     ]
    }
   ],
   "source": [
    "if x == y:\n",
    "    print('x and y are equal')\n",
    "else:\n",
    "    if x < y:\n",
    "        print('x is less than y')\n",
    "    else:\n",
    "        print('x is greater than y')\n",
    " "
   ]
  },
  {
   "cell_type": "markdown",
   "metadata": {},
   "source": [
    "### Loop Statement"
   ]
  },
  {
   "cell_type": "code",
   "execution_count": 35,
   "metadata": {},
   "outputs": [],
   "source": [
    "# for item in iterable:\n",
    "#     action \n",
    " \n",
    "# for item in list:\n",
    "#     action\n",
    " \n",
    "# while condition :\n",
    "#     action"
   ]
  },
  {
   "cell_type": "code",
   "execution_count": 38,
   "metadata": {},
   "outputs": [
    {
     "name": "stdout",
     "output_type": "stream",
     "text": [
      "10\n",
      "9\n",
      "8\n",
      "7\n",
      "6\n",
      "5\n",
      "4\n",
      "3\n",
      "2\n",
      "1\n",
      " blastoff\n"
     ]
    }
   ],
   "source": [
    "for n in [10 ,9 ,8 ,7 ,6 ,5 ,4 ,3 ,2 ,1]:\n",
    "    print(n)\n",
    "else :\n",
    "    print(\" blastoff\")"
   ]
  },
  {
   "cell_type": "code",
   "execution_count": 47,
   "metadata": {},
   "outputs": [
    {
     "name": "stdout",
     "output_type": "stream",
     "text": [
      "3  is a prime number \n",
      "4  equals  2 *  2.0\n",
      "5  is a prime number \n",
      "5  is a prime number \n",
      "5  is a prime number \n",
      "6  equals  2 *  3.0\n",
      "7  is a prime number \n",
      "7  is a prime number \n",
      "7  is a prime number \n",
      "7  is a prime number \n",
      "7  is a prime number \n",
      "8  equals  2 *  4.0\n",
      "9  is a prime number \n",
      "9  equals  3 *  3.0\n"
     ]
    }
   ],
   "source": [
    "for n in range (2 , 10):\n",
    "    for x in range (2 , n ):\n",
    "        if n % x == 0:\n",
    "            print(n , ' equals ', x , '* ', n/x)\n",
    "            break\n",
    "        else :\n",
    "            # loop fell through without finding a factor\n",
    "            print(n , ' is a prime number ')"
   ]
  },
  {
   "cell_type": "code",
   "execution_count": 48,
   "metadata": {},
   "outputs": [
    {
     "name": "stdout",
     "output_type": "stream",
     "text": [
      "9\n",
      "8\n",
      "7\n",
      "6\n",
      "5\n",
      "4\n",
      "3\n",
      "2\n",
      "1\n",
      "blastoff\n"
     ]
    }
   ],
   "source": [
    "while n > 0:\n",
    "    print(n)\n",
    "    n = n - 1\n",
    "else :\n",
    "    print (\"blastoff\")"
   ]
  },
  {
   "cell_type": "code",
   "execution_count": 55,
   "metadata": {},
   "outputs": [
    {
     "name": "stdout",
     "output_type": "stream",
     "text": [
      "Happy New Year: Joseph\n",
      "Done!\n",
      "Happy New Year: Glenn\n",
      "Done!\n",
      "Happy New Year: Sally\n",
      "Done!\n",
      "Before: None\n",
      "Loop: 3 3\n",
      "Largest: 3\n",
      "Loop: 41 41\n",
      "Largest: 41\n",
      "Loop: 74 74\n",
      "Largest: 74\n"
     ]
    }
   ],
   "source": [
    "friends = ['Joseph', 'Glenn', 'Sally']\n",
    "for friend in friends:\n",
    "    print('Happy New Year:', friend)\n",
    "    print('Done!')\n",
    "\n",
    "largest = None\n",
    "print('Before:', largest)\n",
    "\n",
    "for itervar in [3, 41, 12, 9, 74, 15]:\n",
    "    if largest is None or itervar > largest :\n",
    "        largest = itervar\n",
    "        print('Loop:', itervar, largest)\n",
    "        print('Largest:', largest)\n"
   ]
  },
  {
   "cell_type": "markdown",
   "metadata": {},
   "source": [
    "### Exceptions"
   ]
  },
  {
   "cell_type": "code",
   "execution_count": 50,
   "metadata": {},
   "outputs": [
    {
     "name": "stdin",
     "output_type": "stream",
     "text": [
      "Enter Fahrenheit Temperature: 1\n"
     ]
    },
    {
     "name": "stdout",
     "output_type": "stream",
     "text": [
      "-17.22222222222222\n"
     ]
    }
   ],
   "source": [
    "inp = input('Enter Fahrenheit Temperature:')\n",
    "try:\n",
    "    fahr = float(inp)\n",
    "    cel = (fahr - 32.0) * 5.0 / 9.0\n",
    "    print(cel)\n",
    "except:\n",
    "    print('Please enter a number')"
   ]
  },
  {
   "cell_type": "markdown",
   "metadata": {},
   "source": [
    "### Objects and values"
   ]
  },
  {
   "cell_type": "code",
   "execution_count": 56,
   "metadata": {},
   "outputs": [
    {
     "name": "stdout",
     "output_type": "stream",
     "text": [
      "True\n",
      "False\n",
      "True\n"
     ]
    }
   ],
   "source": [
    "a = 'banana'\n",
    "b = 'banana'\n",
    "print(a is b)\n",
    "\n",
    "\n",
    "a = [1, 2, 3]\n",
    "b = [1, 2, 3]\n",
    "print(a is b)\n",
    " \n",
    " \n",
    "a = [1, 2, 3]\n",
    "b = a\n",
    "print(b is a)"
   ]
  },
  {
   "cell_type": "markdown",
   "metadata": {},
   "source": [
    "- The association of a variable with an object is called a reference. \n",
    "- In this example,there are two references to the same object.\n",
    "- An object with more than one reference has more than one name, so we say that the object is aliased."
   ]
  },
  {
   "cell_type": "markdown",
   "metadata": {},
   "source": [
    "- If the aliased object is mutable, changes made with one alias affect the other"
   ]
  },
  {
   "cell_type": "code",
   "execution_count": 58,
   "metadata": {},
   "outputs": [
    {
     "name": "stdout",
     "output_type": "stream",
     "text": [
      "[17, 2, 3]\n"
     ]
    }
   ],
   "source": [
    "b[0] = 17\n",
    "print(a)"
   ]
  },
  {
   "cell_type": "markdown",
   "metadata": {},
   "source": [
    "- In general, it is safer to avoid aliasing when you are working with mutable objects."
   ]
  },
  {
   "cell_type": "markdown",
   "metadata": {},
   "source": [
    "- For example, this function does not delete the head of a list:"
   ]
  },
  {
   "cell_type": "code",
   "execution_count": 60,
   "metadata": {},
   "outputs": [],
   "source": [
    "def bad_delete_head(t):\n",
    "    t = t[1:] "
   ]
  },
  {
   "cell_type": "markdown",
   "metadata": {},
   "source": [
    "- This function leaves the original list unmodified. Here’s how it is used:"
   ]
  },
  {
   "cell_type": "code",
   "execution_count": 62,
   "metadata": {},
   "outputs": [],
   "source": [
    "# letters = ['a', 'b', 'c']\n",
    "# rest = tail(letters)\n",
    "# print(rest)"
   ]
  },
  {
   "cell_type": "markdown",
   "metadata": {},
   "source": [
    "- It is important to distinguish between operations that modify lists and operations that create new lists. \n",
    "- For example, the append method modifies a list, but the + operator creates a new list"
   ]
  },
  {
   "cell_type": "code",
   "execution_count": 63,
   "metadata": {},
   "outputs": [
    {
     "name": "stdout",
     "output_type": "stream",
     "text": [
      "[1, 2, 3]\n",
      "None\n",
      "[1, 2, 3, 3]\n",
      "False\n"
     ]
    }
   ],
   "source": [
    "t1 = [1, 2]\n",
    "t2 = t1.append(3)\n",
    "print(t1)\n",
    "print(t2)\n",
    "\n",
    "t3 = t1 + [3]\n",
    "print(t3)\n",
    "\n",
    "print(t2 is t3)"
   ]
  },
  {
   "cell_type": "markdown",
   "metadata": {},
   "source": [
    "### File handling\n",
    "\n",
    "- Word count Example"
   ]
  },
  {
   "cell_type": "code",
   "execution_count": 68,
   "metadata": {},
   "outputs": [
    {
     "name": "stdout",
     "output_type": "stream",
     "text": [
      "['artificial', 'intelligence', 'ai', 'is', 'the', 'simulation', 'of', 'human', 'intelligence', 'processes', 'by', 'machines', 'especially', 'computer', 'systems', 'these', 'processes', 'include', 'learning', 'the', 'acquisition', 'of', 'information', 'and', 'rules', 'for', 'using', 'the', 'information', 'reasoning', 'using', 'rules', 'to', 'reach', 'approximate', 'or', 'definite', 'conclusions', 'and', 'selfcorrection']\n",
      "3 the\n",
      "2 using\n",
      "2 rules\n",
      "2 processes\n",
      "2 of\n",
      "2 intelligence\n",
      "2 information\n",
      "2 and\n",
      "1 to\n",
      "1 these\n"
     ]
    }
   ],
   "source": [
    "import string\n",
    "fhand = open('AI.txt')\n",
    "counts = dict()\n",
    "\n",
    "for line in fhand:\n",
    "    line = line.translate(str.maketrans('', '', string.punctuation))\n",
    "    line = line.lower()\n",
    "    words = line.split()\n",
    "\n",
    "print(words)\n",
    "    \n",
    "for word in words:\n",
    "    if word not in counts:\n",
    "        counts[word] = 1\n",
    "    else:\n",
    "        counts[word] += 1\n",
    "         \n",
    "# Sort the dictionary by value\n",
    "lst = list()\n",
    "for key, val in list(counts.items()):\n",
    "    lst.append((val, key))\n",
    "    lst.sort(reverse=True)\n",
    "\n",
    "for key, val in lst[:10]:\n",
    "    print(key, val)"
   ]
  },
  {
   "cell_type": "code",
   "execution_count": null,
   "metadata": {},
   "outputs": [],
   "source": []
  }
 ],
 "metadata": {
  "kernelspec": {
   "display_name": "Python 3",
   "language": "python",
   "name": "python3"
  },
  "language_info": {
   "codemirror_mode": {
    "name": "ipython",
    "version": 3
   },
   "file_extension": ".py",
   "mimetype": "text/x-python",
   "name": "python",
   "nbconvert_exporter": "python",
   "pygments_lexer": "ipython3",
   "version": "3.7.1"
  }
 },
 "nbformat": 4,
 "nbformat_minor": 2
}
