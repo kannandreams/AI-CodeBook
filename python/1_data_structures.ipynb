{
 "cells": [
  {
   "cell_type": "markdown",
   "metadata": {},
   "source": [
    "### Print Statements"
   ]
  },
  {
   "cell_type": "code",
   "execution_count": 7,
   "metadata": {},
   "outputs": [
    {
     "name": "stdout",
     "output_type": "stream",
     "text": [
      "Hello\n",
      "I'd food\n",
      "I had \"food\"\n",
      "Hey AI there.\n",
      "\n",
      "There's something going on here.\n",
      "With the three double- quotes.\n",
      "We'll be able to type as much as we like.\n",
      "Even \n"
     ]
    }
   ],
   "source": [
    "print(\"Hello\")\n",
    "print(\"I'd food\")\n",
    "print('I had \"food\"')\n",
    "print(\"Hey %s there.\" % \"AI\")\n",
    "\n",
    "#comment statements\n",
    "'''multiple \n",
    "comments'''\n",
    "\n",
    " \n",
    "print(\"\"\"\n",
    "There's something going on here.\n",
    "With the three double- quotes.\n",
    "We'll be able to type as much as we like.\n",
    "Even \"\"\")\n",
    " \n"
   ]
  },
  {
   "cell_type": "markdown",
   "metadata": {},
   "source": [
    "### Simple Function"
   ]
  },
  {
   "cell_type": "code",
   "execution_count": 9,
   "metadata": {},
   "outputs": [
    {
     "name": "stdout",
     "output_type": "stream",
     "text": [
      "Function to double the value\n",
      "4\n"
     ]
    }
   ],
   "source": [
    "def double(num):\n",
    "    \"\"\"Function to double the value\"\"\"\n",
    "    return 2*num\n",
    "print(double.__doc__)\n",
    "print(double(2))"
   ]
  },
  {
   "cell_type": "markdown",
   "metadata": {},
   "source": [
    "### Expressions"
   ]
  },
  {
   "cell_type": "code",
   "execution_count": 12,
   "metadata": {},
   "outputs": [
    {
     "name": "stdout",
     "output_type": "stream",
     "text": [
      "4\n",
      "sum of 3+2 is  5\n",
      "Is it greater or equal? True\n"
     ]
    }
   ],
   "source": [
    "#numbers and math\n",
    "print(3 +1)\n",
    "print(\"sum of 3+2 is \",3+2)\n",
    "print(\"Is it greater or equal?\", 5 >= - 1)"
   ]
  },
  {
   "cell_type": "markdown",
   "metadata": {},
   "source": [
    "### Variables"
   ]
  },
  {
   "cell_type": "code",
   "execution_count": 23,
   "metadata": {},
   "outputs": [
    {
     "name": "stdout",
     "output_type": "stream",
     "text": [
      "He's got Blue eyes and White teeth. and have 2 hands \n",
      "<class 'str'>\n",
      "5 3.2 Hello\n",
      "same same same\n"
     ]
    }
   ],
   "source": [
    "my_eyes = 'Blue'\n",
    "my_teeth = 'White'\n",
    "print(\"He's got %s eyes and %s teeth. and have %r hands \" % (my_eyes, my_teeth,2))\n",
    "print(type(my_eyes))\n",
    "\n",
    "a, b, c = 5, 3.2, \"Hello\"\n",
    "print(a,b,c)\n",
    "x = y = z = \"same\"\n",
    "print(x,y,z)"
   ]
  },
  {
   "cell_type": "markdown",
   "metadata": {},
   "source": [
    "### import statement"
   ]
  },
  {
   "cell_type": "code",
   "execution_count": 24,
   "metadata": {},
   "outputs": [
    {
     "data": {
      "text/plain": [
       "'datetime.date(2019, 9, 29)'"
      ]
     },
     "execution_count": 24,
     "metadata": {},
     "output_type": "execute_result"
    }
   ],
   "source": [
    "import datetime\n",
    "d = datetime.date.today()\n",
    "str(d)\n",
    "repr(d)\n",
    "#The %r is best for debugging, and the other formats are for actually displaying variables to users\n",
    " "
   ]
  },
  {
   "cell_type": "code",
   "execution_count": 95,
   "metadata": {},
   "outputs": [],
   "source": [
    "import math\n",
    "import math as m\n",
    "\n",
    "#If you import math, you get a module object named math. The module object contains constants like pi and functions like sin and exp\n",
    " \n",
    "from math import pi \n",
    "from math import *"
   ]
  },
  {
   "cell_type": "markdown",
   "metadata": {},
   "source": [
    "### String Data type and Operations\n",
    "\n",
    "- Strings are immutable. This means that elements of a string cannot be changed once it has been assigned. \n"
   ]
  },
  {
   "cell_type": "code",
   "execution_count": 33,
   "metadata": {},
   "outputs": [
    {
     "data": {
      "text/plain": [
       "'1string2string3'"
      ]
     },
     "execution_count": 33,
     "metadata": {},
     "output_type": "execute_result"
    }
   ],
   "source": [
    "# Access - y\n",
    "# Search - y\n",
    "# Update - n\n",
    "# Insert - n\n",
    "# Append - y\n",
    "# delete - n\n",
    " \n",
    " \n",
    "a=\"string\"\n",
    " \n",
    "a.join(\"123\")"
   ]
  },
  {
   "cell_type": "code",
   "execution_count": 36,
   "metadata": {},
   "outputs": [],
   "source": [
    "my_string = 'programiz'\n",
    "#my_string[5] = 'a'\n",
    "#del my_string[1]"
   ]
  },
  {
   "cell_type": "code",
   "execution_count": 37,
   "metadata": {},
   "outputs": [
    {
     "name": "stdout",
     "output_type": "stream",
     "text": [
      "str =  programiz\n",
      "str[0] =  p\n",
      "str[-1] =  z\n",
      "str[1:5] =  rogr\n",
      "str[5:-2] =  am\n"
     ]
    }
   ],
   "source": [
    "str = 'programiz'\n",
    "print('str = ', str)\n",
    " \n",
    "#first character\n",
    "print('str[0] = ', str[0])\n",
    " \n",
    "#last character\n",
    "print('str[-1] = ', str[-1])\n",
    " \n",
    "#slicing 2nd to 5th character\n",
    "print('str[1:5] = ', str[1:5])\n",
    " \n",
    "#slicing 6th to 2nd last character\n",
    "print('str[5:-2] = ', str[5:-2])"
   ]
  },
  {
   "cell_type": "code",
   "execution_count": 39,
   "metadata": {},
   "outputs": [
    {
     "name": "stdout",
     "output_type": "stream",
     "text": [
      "                 Hello                   \n",
      "\n",
      "str1 + str2 =  HelloWorld!\n",
      "str1 * 3 = HelloHelloHello\n"
     ]
    }
   ],
   "source": [
    "str1 = 'Hello'\n",
    "str2 ='World!'\n",
    "print (str1.center(40), \"\\n\") \n",
    "\n",
    "# using +\n",
    "print('str1 + str2 = ', str1 + str2)\n",
    " \n",
    "# using *\n",
    "print('str1 * 3 =', str1 * 3)"
   ]
  },
  {
   "cell_type": "code",
   "execution_count": 47,
   "metadata": {},
   "outputs": [
    {
     "name": "stdout",
     "output_type": "stream",
     "text": [
      "[1, 3, 4, 5]\n",
      "[4, 3, 1, 5]\n",
      "None\n",
      "[1, 3, 4, 5]\n"
     ]
    }
   ],
   "source": [
    "a=[4,3,1,5]\n",
    "print(sorted(a))\n",
    "print(a)\n",
    "print(a.sort())\n",
    "print(a)"
   ]
  },
  {
   "cell_type": "code",
   "execution_count": 48,
   "metadata": {},
   "outputs": [
    {
     "name": "stdout",
     "output_type": "stream",
     "text": [
      "True\n",
      "False\n"
     ]
    }
   ],
   "source": [
    "print('a' in 'program')\n",
    "print('at' not in 'battle')"
   ]
  },
  {
   "cell_type": "code",
   "execution_count": 54,
   "metadata": {},
   "outputs": [
    {
     "name": "stdout",
     "output_type": "stream",
     "text": [
      "\n",
      "--- Default Order ---\n",
      "Alex, Google and Siri\n",
      "\n",
      "--- Positional Order ---\n",
      "Bill, John and Sean\n",
      "\n",
      "--- Keyword Order ---\n",
      "Sean, Bill and John\n"
     ]
    }
   ],
   "source": [
    "\n",
    "# default(implicit) order\n",
    "default_order = \"{}, {} and {}\".format('Alex','Google','Siri')\n",
    "print('\\n--- Default Order ---')\n",
    "print(default_order)\n",
    "\n",
    "# order using positional argument\n",
    "positional_order = \"{1}, {0} and {2}\".format('John','Bill','Sean')\n",
    "print('\\n--- Positional Order ---')\n",
    "print(positional_order)\n",
    "\n",
    "# order using keyword argument\n",
    "keyword_order = \"{s}, {b} and {j}\".format(j='John',b='Bill',s='Sean')\n",
    "print('\\n--- Keyword Order ---')\n",
    "print(keyword_order)"
   ]
  },
  {
   "cell_type": "code",
   "execution_count": 66,
   "metadata": {},
   "outputs": [
    {
     "name": "stdout",
     "output_type": "stream",
     "text": [
      "programiz\n",
      "This will join all words\n",
      "Brilliant New Year\n"
     ]
    }
   ],
   "source": [
    "print(\"PrOgRaMiZ\".lower())\n",
    "print(' '.join(['This', 'will', 'join', 'all', 'words']))\n",
    "print(\"Happy New Year\".replace('Happy','Brilliant'))"
   ]
  },
  {
   "cell_type": "code",
   "execution_count": 97,
   "metadata": {},
   "outputs": [
    {
     "data": {
      "text/plain": [
       "['spam', 'spam', 'spam']"
      ]
     },
     "execution_count": 97,
     "metadata": {},
     "output_type": "execute_result"
    }
   ],
   "source": [
    "s = 'spam-spam-spam'\n",
    "delimiter = '-'\n",
    "s.split(delimiter)"
   ]
  },
  {
   "cell_type": "code",
   "execution_count": 76,
   "metadata": {},
   "outputs": [
    {
     "name": "stdout",
     "output_type": "stream",
     "text": [
      "2 4.0\n"
     ]
    }
   ],
   "source": [
    "##data type conversion / casting\n",
    "print(int(2.3), float(4))"
   ]
  },
  {
   "cell_type": "markdown",
   "metadata": {},
   "source": [
    "### Lists\n",
    "\n",
    "- ordered\n",
    "- mutable"
   ]
  },
  {
   "cell_type": "code",
   "execution_count": 82,
   "metadata": {},
   "outputs": [
    {
     "name": "stdout",
     "output_type": "stream",
     "text": [
      "[1, 2, 3]\n",
      "<class 'list'>\n"
     ]
    }
   ],
   "source": [
    "a = [1,2,3]\n",
    "print(a)\n",
    "print(type(a))"
   ]
  },
  {
   "cell_type": "code",
   "execution_count": 96,
   "metadata": {},
   "outputs": [
    {
     "name": "stdout",
     "output_type": "stream",
     "text": [
      "['a', 'c']\n",
      "['a', 'c']\n",
      "['a', 'c']\n",
      "['s', 'p', 'a', 'm']\n",
      "['pining', 'for', 'the', 'fjords']\n",
      "the\n"
     ]
    }
   ],
   "source": [
    "t = ['a', 'b', 'c']\n",
    "t.remove('b')\n",
    "print(t)\n",
    " \n",
    "t = ['a', 'b', 'c']\n",
    "del t[1]\n",
    "print(t)\n",
    " \n",
    "t = ['a', 'b', 'c']\n",
    "x = t.pop(1)\n",
    "print(t)\n",
    " \n",
    " \n",
    "s = 'spam'\n",
    "t = list(s)\n",
    "print(t)\n",
    " \n",
    " \n",
    "s = 'pining for the fjords'\n",
    "t = s.split()\n",
    "print(t)\n",
    "print(t[2])"
   ]
  },
  {
   "cell_type": "markdown",
   "metadata": {},
   "source": [
    "### Tuples\n",
    "\n",
    "- ordered\n",
    "- immutable\n",
    "- is a sequence of values much like a list. The values stored in a tuple can be any type.\n",
    "- they are indexed by integers. The important difference is that tuples are immutable. \n",
    "- Tuples are also comparable and hashable so we can sort lists of them and use tuples as key values in Python dictionaries"
   ]
  },
  {
   "cell_type": "code",
   "execution_count": 81,
   "metadata": {},
   "outputs": [
    {
     "name": "stdout",
     "output_type": "stream",
     "text": [
      "(5, 'program', (1+3j))\n",
      "<class 'tuple'>\n"
     ]
    }
   ],
   "source": [
    "t = (5,'program', 1+3j)\n",
    "print(t)\n",
    "print(type(t))"
   ]
  },
  {
   "cell_type": "code",
   "execution_count": 98,
   "metadata": {},
   "outputs": [
    {
     "data": {
      "text/plain": [
       "True"
      ]
     },
     "execution_count": 98,
     "metadata": {},
     "output_type": "execute_result"
    }
   ],
   "source": [
    "(0, 1, 2) < (0, 3, 4)"
   ]
  },
  {
   "cell_type": "code",
   "execution_count": 99,
   "metadata": {},
   "outputs": [],
   "source": [
    "a, b = b, a "
   ]
  },
  {
   "cell_type": "markdown",
   "metadata": {},
   "source": [
    "### Sets\n",
    "- Set is an unordered collection of unique items\n",
    "- Since, set are unordered collection, indexing has no meaning. Hence the slicing operator [] does not work.\n"
   ]
  },
  {
   "cell_type": "code",
   "execution_count": 86,
   "metadata": {},
   "outputs": [
    {
     "name": "stdout",
     "output_type": "stream",
     "text": [
      "{1, 2, 3}\n",
      "{2, 3, 5, 6}\n"
     ]
    }
   ],
   "source": [
    "a = {1,2,2,3,3,3}\n",
    "print(a)\n",
    "\n",
    "a = {3,3,2,6,5}\n",
    "print(a)"
   ]
  },
  {
   "cell_type": "markdown",
   "metadata": {},
   "source": [
    "### Dictionary\n",
    "- Dictionary is an unordered collection of key-value pairs."
   ]
  },
  {
   "cell_type": "code",
   "execution_count": 91,
   "metadata": {},
   "outputs": [
    {
     "name": "stdout",
     "output_type": "stream",
     "text": [
      "<class 'dict'>\n",
      "d[1] =  value\n",
      "d['key'] =  2\n"
     ]
    }
   ],
   "source": [
    "d = {1:'value','key':2}\n",
    "print(type(d))\n",
    " \n",
    "print(\"d[1] = \", d[1]);\n",
    " \n",
    "print(\"d['key'] = \", d['key']);\n",
    "\n",
    "# Generates error\n",
    "#print(\"d[2] = \", d[2]);"
   ]
  },
  {
   "cell_type": "code",
   "execution_count": 94,
   "metadata": {},
   "outputs": [
    {
     "name": "stdout",
     "output_type": "stream",
     "text": [
      "['h', 'e', 'l', 'l', 'o']\n",
      "(5, 6, 7)\n",
      "{1: 2, 3: 4}\n"
     ]
    }
   ],
   "source": [
    "#We can even convert one sequence to another\n",
    "\n",
    "print(list('hello'))\n",
    "\n",
    "print(tuple({5,6,7}))\n",
    "\n",
    "#To convert to dictionary, each element must be a pair\n",
    "print(dict([[1,2],[3,4]]))"
   ]
  },
  {
   "cell_type": "code",
   "execution_count": 100,
   "metadata": {},
   "outputs": [
    {
     "name": "stdout",
     "output_type": "stream",
     "text": [
      "[('a', 10), ('b', 1), ('c', 22)]\n"
     ]
    }
   ],
   "source": [
    "d = {'a':10, 'b':1, 'c':22}\n",
    "t = list(d.items())\n",
    "print(t)"
   ]
  },
  {
   "cell_type": "code",
   "execution_count": 103,
   "metadata": {},
   "outputs": [
    {
     "name": "stdout",
     "output_type": "stream",
     "text": [
      "10 a\n",
      "1 b\n",
      "22 c\n"
     ]
    }
   ],
   "source": [
    "for key, val in list(d.items()):\n",
    "    print(val, key)"
   ]
  },
  {
   "cell_type": "markdown",
   "metadata": {},
   "source": [
    "## NOTES"
   ]
  },
  {
   "cell_type": "markdown",
   "metadata": {},
   "source": [
    "1. using tuples as key in dictionary. Because tuples are hashable and lists are not.\n",
    "\n",
    "2. if we want to create a composite key to use in a dictionary we must use a tuple as the key. "
   ]
  },
  {
   "cell_type": "markdown",
   "metadata": {},
   "source": [
    "3. Sequences: strings, lists, and tuples \n",
    "\n",
    "4. All this combination works - lists of tuples, lists of lists, tuples of tuples, and tuples of lists. \n",
    "\n",
    "5. In many contexts, the different kinds of sequences (strings, lists, and tuples) can be used interchangeably. So how and why do you choose one over the others?\n",
    "\n",
    "- To start with the obvious, strings are more limited than other sequences because the elements have to be characters. \n",
    "- They are also immutable. If you need the ability to change the characters in a string (as opposed to creating a new string), you might want to use a list of characters instead.\n"
   ]
  },
  {
   "cell_type": "markdown",
   "metadata": {},
   "source": [
    "8. Lists are more common than tuples, mostly because they are mutable. But there are a few cases where you might prefer tuples: In some contexts, like a return statement, it is syntactically simpler to create a tuple than a list. In other contexts, you might prefer a list.\n",
    "\n",
    "9. If you want to use a sequence as a dictionary key, you have to use an immutable type like a tuple or string.\n",
    "\n",
    "10. If you are passing a sequence as an argument to a function, using tuples reduces the potential for unexpected behavior due to aliasing\n",
    " \n",
    "11. Because tuples are immutable, they don’t provide methods like sort and reverse,which modify existing lists. \n",
    "\n",
    "12. However Python provides the built-in functions sorted and reversed, which take any sequence as a parameter and return a new sequence with the same elements in a different order.\n",
    "\n",
    "\n",
    "```m = [ 'have', 'fun' ]\n",
    " (x, y) = m</p>```"
   ]
  },
  {
   "cell_type": "code",
   "execution_count": null,
   "metadata": {},
   "outputs": [],
   "source": []
  }
 ],
 "metadata": {
  "kernelspec": {
   "display_name": "Python 3",
   "language": "python",
   "name": "python3"
  },
  "language_info": {
   "codemirror_mode": {
    "name": "ipython",
    "version": 3
   },
   "file_extension": ".py",
   "mimetype": "text/x-python",
   "name": "python",
   "nbconvert_exporter": "python",
   "pygments_lexer": "ipython3",
   "version": "3.7.1"
  }
 },
 "nbformat": 4,
 "nbformat_minor": 2
}
