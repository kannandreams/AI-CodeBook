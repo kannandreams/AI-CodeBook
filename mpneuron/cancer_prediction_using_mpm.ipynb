{
  "nbformat": 4,
  "nbformat_minor": 0,
  "metadata": {
    "colab": {
      "name": "cancer_prediction_using_mpm.ipynb",
      "provenance": [],
      "collapsed_sections": [],
      "authorship_tag": "ABX9TyO8WLT5Zu6ftJT6Ptsj4n2P",
      "include_colab_link": true
    },
    "kernelspec": {
      "name": "python3",
      "display_name": "Python 3"
    }
  },
  "cells": [
    {
      "cell_type": "markdown",
      "metadata": {
        "id": "view-in-github",
        "colab_type": "text"
      },
      "source": [
        "<a href=\"https://colab.research.google.com/github/kannandreams/AI-CodeBook/blob/master/mpneuron/cancer_prediction_using_mpm.ipynb\" target=\"_parent\"><img src=\"https://colab.research.google.com/assets/colab-badge.svg\" alt=\"Open In Colab\"/></a>"
      ]
    },
    {
      "cell_type": "markdown",
      "metadata": {
        "id": "3j0m1RV80Skt",
        "colab_type": "text"
      },
      "source": [
        "https://en.wikipedia.org/wiki/Artificial_neuron"
      ]
    },
    {
      "cell_type": "markdown",
      "metadata": {
        "id": "lJdCbg0W0XTC",
        "colab_type": "text"
      },
      "source": [
        "![alt text](https://upload.wikimedia.org/wikipedia/commons/b/b0/Artificial_neuron.png)"
      ]
    },
    {
      "cell_type": "markdown",
      "metadata": {
        "id": "WfeXZIld0_AI",
        "colab_type": "text"
      },
      "source": [
        "### Learning from Guvi - Deep Learning course"
      ]
    },
    {
      "cell_type": "code",
      "metadata": {
        "id": "VgtipDJQ0n1Q",
        "colab_type": "code",
        "colab": {}
      },
      "source": [
        "import sklearn.datasets\n",
        "import numpy as np"
      ],
      "execution_count": 0,
      "outputs": []
    },
    {
      "cell_type": "code",
      "metadata": {
        "id": "0xOK73TS06Zl",
        "colab_type": "code",
        "colab": {}
      },
      "source": [
        "breast_cancer = sklearn.datasets.load_breast_cancer()\n",
        "\n",
        "X = breast_cancer.data\n",
        "Y = breast_cancer.target"
      ],
      "execution_count": 0,
      "outputs": []
    },
    {
      "cell_type": "code",
      "metadata": {
        "id": "JJyH0ZKN1Sth",
        "colab_type": "code",
        "colab": {
          "base_uri": "https://localhost:8080/",
          "height": 34
        },
        "outputId": "25522f66-f6f3-452c-e4a5-35cd65660e76"
      },
      "source": [
        "print(X.shape,Y.shape)"
      ],
      "execution_count": 138,
      "outputs": [
        {
          "output_type": "stream",
          "text": [
            "(569, 30) (569,)\n"
          ],
          "name": "stdout"
        }
      ]
    },
    {
      "cell_type": "code",
      "metadata": {
        "id": "Hnfs_yKd1Zn2",
        "colab_type": "code",
        "colab": {}
      },
      "source": [
        "import pandas as pd\n",
        "\n",
        "data = pd.DataFrame(data = breast_cancer.data , columns=breast_cancer.feature_names)\n",
        "data['class'] = breast_cancer.target"
      ],
      "execution_count": 0,
      "outputs": []
    },
    {
      "cell_type": "code",
      "metadata": {
        "id": "YH8FVO1Y1ogw",
        "colab_type": "code",
        "colab": {
          "base_uri": "https://localhost:8080/",
          "height": 258
        },
        "outputId": "e4e8c2a0-94c2-4ddc-8c45-85411d0192ad"
      },
      "source": [
        "data.head()"
      ],
      "execution_count": 140,
      "outputs": [
        {
          "output_type": "execute_result",
          "data": {
            "text/html": [
              "<div>\n",
              "<style scoped>\n",
              "    .dataframe tbody tr th:only-of-type {\n",
              "        vertical-align: middle;\n",
              "    }\n",
              "\n",
              "    .dataframe tbody tr th {\n",
              "        vertical-align: top;\n",
              "    }\n",
              "\n",
              "    .dataframe thead th {\n",
              "        text-align: right;\n",
              "    }\n",
              "</style>\n",
              "<table border=\"1\" class=\"dataframe\">\n",
              "  <thead>\n",
              "    <tr style=\"text-align: right;\">\n",
              "      <th></th>\n",
              "      <th>mean radius</th>\n",
              "      <th>mean texture</th>\n",
              "      <th>mean perimeter</th>\n",
              "      <th>mean area</th>\n",
              "      <th>mean smoothness</th>\n",
              "      <th>mean compactness</th>\n",
              "      <th>mean concavity</th>\n",
              "      <th>mean concave points</th>\n",
              "      <th>mean symmetry</th>\n",
              "      <th>mean fractal dimension</th>\n",
              "      <th>radius error</th>\n",
              "      <th>texture error</th>\n",
              "      <th>perimeter error</th>\n",
              "      <th>area error</th>\n",
              "      <th>smoothness error</th>\n",
              "      <th>compactness error</th>\n",
              "      <th>concavity error</th>\n",
              "      <th>concave points error</th>\n",
              "      <th>symmetry error</th>\n",
              "      <th>fractal dimension error</th>\n",
              "      <th>worst radius</th>\n",
              "      <th>worst texture</th>\n",
              "      <th>worst perimeter</th>\n",
              "      <th>worst area</th>\n",
              "      <th>worst smoothness</th>\n",
              "      <th>worst compactness</th>\n",
              "      <th>worst concavity</th>\n",
              "      <th>worst concave points</th>\n",
              "      <th>worst symmetry</th>\n",
              "      <th>worst fractal dimension</th>\n",
              "      <th>class</th>\n",
              "    </tr>\n",
              "  </thead>\n",
              "  <tbody>\n",
              "    <tr>\n",
              "      <th>0</th>\n",
              "      <td>17.99</td>\n",
              "      <td>10.38</td>\n",
              "      <td>122.80</td>\n",
              "      <td>1001.0</td>\n",
              "      <td>0.11840</td>\n",
              "      <td>0.27760</td>\n",
              "      <td>0.3001</td>\n",
              "      <td>0.14710</td>\n",
              "      <td>0.2419</td>\n",
              "      <td>0.07871</td>\n",
              "      <td>1.0950</td>\n",
              "      <td>0.9053</td>\n",
              "      <td>8.589</td>\n",
              "      <td>153.40</td>\n",
              "      <td>0.006399</td>\n",
              "      <td>0.04904</td>\n",
              "      <td>0.05373</td>\n",
              "      <td>0.01587</td>\n",
              "      <td>0.03003</td>\n",
              "      <td>0.006193</td>\n",
              "      <td>25.38</td>\n",
              "      <td>17.33</td>\n",
              "      <td>184.60</td>\n",
              "      <td>2019.0</td>\n",
              "      <td>0.1622</td>\n",
              "      <td>0.6656</td>\n",
              "      <td>0.7119</td>\n",
              "      <td>0.2654</td>\n",
              "      <td>0.4601</td>\n",
              "      <td>0.11890</td>\n",
              "      <td>0</td>\n",
              "    </tr>\n",
              "    <tr>\n",
              "      <th>1</th>\n",
              "      <td>20.57</td>\n",
              "      <td>17.77</td>\n",
              "      <td>132.90</td>\n",
              "      <td>1326.0</td>\n",
              "      <td>0.08474</td>\n",
              "      <td>0.07864</td>\n",
              "      <td>0.0869</td>\n",
              "      <td>0.07017</td>\n",
              "      <td>0.1812</td>\n",
              "      <td>0.05667</td>\n",
              "      <td>0.5435</td>\n",
              "      <td>0.7339</td>\n",
              "      <td>3.398</td>\n",
              "      <td>74.08</td>\n",
              "      <td>0.005225</td>\n",
              "      <td>0.01308</td>\n",
              "      <td>0.01860</td>\n",
              "      <td>0.01340</td>\n",
              "      <td>0.01389</td>\n",
              "      <td>0.003532</td>\n",
              "      <td>24.99</td>\n",
              "      <td>23.41</td>\n",
              "      <td>158.80</td>\n",
              "      <td>1956.0</td>\n",
              "      <td>0.1238</td>\n",
              "      <td>0.1866</td>\n",
              "      <td>0.2416</td>\n",
              "      <td>0.1860</td>\n",
              "      <td>0.2750</td>\n",
              "      <td>0.08902</td>\n",
              "      <td>0</td>\n",
              "    </tr>\n",
              "    <tr>\n",
              "      <th>2</th>\n",
              "      <td>19.69</td>\n",
              "      <td>21.25</td>\n",
              "      <td>130.00</td>\n",
              "      <td>1203.0</td>\n",
              "      <td>0.10960</td>\n",
              "      <td>0.15990</td>\n",
              "      <td>0.1974</td>\n",
              "      <td>0.12790</td>\n",
              "      <td>0.2069</td>\n",
              "      <td>0.05999</td>\n",
              "      <td>0.7456</td>\n",
              "      <td>0.7869</td>\n",
              "      <td>4.585</td>\n",
              "      <td>94.03</td>\n",
              "      <td>0.006150</td>\n",
              "      <td>0.04006</td>\n",
              "      <td>0.03832</td>\n",
              "      <td>0.02058</td>\n",
              "      <td>0.02250</td>\n",
              "      <td>0.004571</td>\n",
              "      <td>23.57</td>\n",
              "      <td>25.53</td>\n",
              "      <td>152.50</td>\n",
              "      <td>1709.0</td>\n",
              "      <td>0.1444</td>\n",
              "      <td>0.4245</td>\n",
              "      <td>0.4504</td>\n",
              "      <td>0.2430</td>\n",
              "      <td>0.3613</td>\n",
              "      <td>0.08758</td>\n",
              "      <td>0</td>\n",
              "    </tr>\n",
              "    <tr>\n",
              "      <th>3</th>\n",
              "      <td>11.42</td>\n",
              "      <td>20.38</td>\n",
              "      <td>77.58</td>\n",
              "      <td>386.1</td>\n",
              "      <td>0.14250</td>\n",
              "      <td>0.28390</td>\n",
              "      <td>0.2414</td>\n",
              "      <td>0.10520</td>\n",
              "      <td>0.2597</td>\n",
              "      <td>0.09744</td>\n",
              "      <td>0.4956</td>\n",
              "      <td>1.1560</td>\n",
              "      <td>3.445</td>\n",
              "      <td>27.23</td>\n",
              "      <td>0.009110</td>\n",
              "      <td>0.07458</td>\n",
              "      <td>0.05661</td>\n",
              "      <td>0.01867</td>\n",
              "      <td>0.05963</td>\n",
              "      <td>0.009208</td>\n",
              "      <td>14.91</td>\n",
              "      <td>26.50</td>\n",
              "      <td>98.87</td>\n",
              "      <td>567.7</td>\n",
              "      <td>0.2098</td>\n",
              "      <td>0.8663</td>\n",
              "      <td>0.6869</td>\n",
              "      <td>0.2575</td>\n",
              "      <td>0.6638</td>\n",
              "      <td>0.17300</td>\n",
              "      <td>0</td>\n",
              "    </tr>\n",
              "    <tr>\n",
              "      <th>4</th>\n",
              "      <td>20.29</td>\n",
              "      <td>14.34</td>\n",
              "      <td>135.10</td>\n",
              "      <td>1297.0</td>\n",
              "      <td>0.10030</td>\n",
              "      <td>0.13280</td>\n",
              "      <td>0.1980</td>\n",
              "      <td>0.10430</td>\n",
              "      <td>0.1809</td>\n",
              "      <td>0.05883</td>\n",
              "      <td>0.7572</td>\n",
              "      <td>0.7813</td>\n",
              "      <td>5.438</td>\n",
              "      <td>94.44</td>\n",
              "      <td>0.011490</td>\n",
              "      <td>0.02461</td>\n",
              "      <td>0.05688</td>\n",
              "      <td>0.01885</td>\n",
              "      <td>0.01756</td>\n",
              "      <td>0.005115</td>\n",
              "      <td>22.54</td>\n",
              "      <td>16.67</td>\n",
              "      <td>152.20</td>\n",
              "      <td>1575.0</td>\n",
              "      <td>0.1374</td>\n",
              "      <td>0.2050</td>\n",
              "      <td>0.4000</td>\n",
              "      <td>0.1625</td>\n",
              "      <td>0.2364</td>\n",
              "      <td>0.07678</td>\n",
              "      <td>0</td>\n",
              "    </tr>\n",
              "  </tbody>\n",
              "</table>\n",
              "</div>"
            ],
            "text/plain": [
              "   mean radius  mean texture  ...  worst fractal dimension  class\n",
              "0        17.99         10.38  ...                  0.11890      0\n",
              "1        20.57         17.77  ...                  0.08902      0\n",
              "2        19.69         21.25  ...                  0.08758      0\n",
              "3        11.42         20.38  ...                  0.17300      0\n",
              "4        20.29         14.34  ...                  0.07678      0\n",
              "\n",
              "[5 rows x 31 columns]"
            ]
          },
          "metadata": {
            "tags": []
          },
          "execution_count": 140
        }
      ]
    },
    {
      "cell_type": "code",
      "metadata": {
        "id": "rVUKEEeG1q4F",
        "colab_type": "code",
        "colab": {
          "base_uri": "https://localhost:8080/",
          "height": 85
        },
        "outputId": "06041c64-96d2-47ad-804c-66ef28cbf96a"
      },
      "source": [
        "print(data['class'].value_counts())\n",
        "breast_cancer.target_names"
      ],
      "execution_count": 141,
      "outputs": [
        {
          "output_type": "stream",
          "text": [
            "1    357\n",
            "0    212\n",
            "Name: class, dtype: int64\n"
          ],
          "name": "stdout"
        },
        {
          "output_type": "execute_result",
          "data": {
            "text/plain": [
              "array(['malignant', 'benign'], dtype='<U9')"
            ]
          },
          "metadata": {
            "tags": []
          },
          "execution_count": 141
        }
      ]
    },
    {
      "cell_type": "code",
      "metadata": {
        "id": "NYD3ruUj18Yb",
        "colab_type": "code",
        "colab": {
          "base_uri": "https://localhost:8080/",
          "height": 196
        },
        "outputId": "9dec0a66-0e5b-44f8-e6de-6c2dbfe71f2f"
      },
      "source": [
        "data.groupby('class').mean()"
      ],
      "execution_count": 142,
      "outputs": [
        {
          "output_type": "execute_result",
          "data": {
            "text/html": [
              "<div>\n",
              "<style scoped>\n",
              "    .dataframe tbody tr th:only-of-type {\n",
              "        vertical-align: middle;\n",
              "    }\n",
              "\n",
              "    .dataframe tbody tr th {\n",
              "        vertical-align: top;\n",
              "    }\n",
              "\n",
              "    .dataframe thead th {\n",
              "        text-align: right;\n",
              "    }\n",
              "</style>\n",
              "<table border=\"1\" class=\"dataframe\">\n",
              "  <thead>\n",
              "    <tr style=\"text-align: right;\">\n",
              "      <th></th>\n",
              "      <th>mean radius</th>\n",
              "      <th>mean texture</th>\n",
              "      <th>mean perimeter</th>\n",
              "      <th>mean area</th>\n",
              "      <th>mean smoothness</th>\n",
              "      <th>mean compactness</th>\n",
              "      <th>mean concavity</th>\n",
              "      <th>mean concave points</th>\n",
              "      <th>mean symmetry</th>\n",
              "      <th>mean fractal dimension</th>\n",
              "      <th>radius error</th>\n",
              "      <th>texture error</th>\n",
              "      <th>perimeter error</th>\n",
              "      <th>area error</th>\n",
              "      <th>smoothness error</th>\n",
              "      <th>compactness error</th>\n",
              "      <th>concavity error</th>\n",
              "      <th>concave points error</th>\n",
              "      <th>symmetry error</th>\n",
              "      <th>fractal dimension error</th>\n",
              "      <th>worst radius</th>\n",
              "      <th>worst texture</th>\n",
              "      <th>worst perimeter</th>\n",
              "      <th>worst area</th>\n",
              "      <th>worst smoothness</th>\n",
              "      <th>worst compactness</th>\n",
              "      <th>worst concavity</th>\n",
              "      <th>worst concave points</th>\n",
              "      <th>worst symmetry</th>\n",
              "      <th>worst fractal dimension</th>\n",
              "    </tr>\n",
              "    <tr>\n",
              "      <th>class</th>\n",
              "      <th></th>\n",
              "      <th></th>\n",
              "      <th></th>\n",
              "      <th></th>\n",
              "      <th></th>\n",
              "      <th></th>\n",
              "      <th></th>\n",
              "      <th></th>\n",
              "      <th></th>\n",
              "      <th></th>\n",
              "      <th></th>\n",
              "      <th></th>\n",
              "      <th></th>\n",
              "      <th></th>\n",
              "      <th></th>\n",
              "      <th></th>\n",
              "      <th></th>\n",
              "      <th></th>\n",
              "      <th></th>\n",
              "      <th></th>\n",
              "      <th></th>\n",
              "      <th></th>\n",
              "      <th></th>\n",
              "      <th></th>\n",
              "      <th></th>\n",
              "      <th></th>\n",
              "      <th></th>\n",
              "      <th></th>\n",
              "      <th></th>\n",
              "      <th></th>\n",
              "    </tr>\n",
              "  </thead>\n",
              "  <tbody>\n",
              "    <tr>\n",
              "      <th>0</th>\n",
              "      <td>17.462830</td>\n",
              "      <td>21.604906</td>\n",
              "      <td>115.365377</td>\n",
              "      <td>978.376415</td>\n",
              "      <td>0.102898</td>\n",
              "      <td>0.145188</td>\n",
              "      <td>0.160775</td>\n",
              "      <td>0.087990</td>\n",
              "      <td>0.192909</td>\n",
              "      <td>0.062680</td>\n",
              "      <td>0.609083</td>\n",
              "      <td>1.210915</td>\n",
              "      <td>4.323929</td>\n",
              "      <td>72.672406</td>\n",
              "      <td>0.006780</td>\n",
              "      <td>0.032281</td>\n",
              "      <td>0.041824</td>\n",
              "      <td>0.015060</td>\n",
              "      <td>0.020472</td>\n",
              "      <td>0.004062</td>\n",
              "      <td>21.134811</td>\n",
              "      <td>29.318208</td>\n",
              "      <td>141.370330</td>\n",
              "      <td>1422.286321</td>\n",
              "      <td>0.144845</td>\n",
              "      <td>0.374824</td>\n",
              "      <td>0.450606</td>\n",
              "      <td>0.182237</td>\n",
              "      <td>0.323468</td>\n",
              "      <td>0.091530</td>\n",
              "    </tr>\n",
              "    <tr>\n",
              "      <th>1</th>\n",
              "      <td>12.146524</td>\n",
              "      <td>17.914762</td>\n",
              "      <td>78.075406</td>\n",
              "      <td>462.790196</td>\n",
              "      <td>0.092478</td>\n",
              "      <td>0.080085</td>\n",
              "      <td>0.046058</td>\n",
              "      <td>0.025717</td>\n",
              "      <td>0.174186</td>\n",
              "      <td>0.062867</td>\n",
              "      <td>0.284082</td>\n",
              "      <td>1.220380</td>\n",
              "      <td>2.000321</td>\n",
              "      <td>21.135148</td>\n",
              "      <td>0.007196</td>\n",
              "      <td>0.021438</td>\n",
              "      <td>0.025997</td>\n",
              "      <td>0.009858</td>\n",
              "      <td>0.020584</td>\n",
              "      <td>0.003636</td>\n",
              "      <td>13.379801</td>\n",
              "      <td>23.515070</td>\n",
              "      <td>87.005938</td>\n",
              "      <td>558.899440</td>\n",
              "      <td>0.124959</td>\n",
              "      <td>0.182673</td>\n",
              "      <td>0.166238</td>\n",
              "      <td>0.074444</td>\n",
              "      <td>0.270246</td>\n",
              "      <td>0.079442</td>\n",
              "    </tr>\n",
              "  </tbody>\n",
              "</table>\n",
              "</div>"
            ],
            "text/plain": [
              "       mean radius  mean texture  ...  worst symmetry  worst fractal dimension\n",
              "class                             ...                                         \n",
              "0        17.462830     21.604906  ...        0.323468                 0.091530\n",
              "1        12.146524     17.914762  ...        0.270246                 0.079442\n",
              "\n",
              "[2 rows x 30 columns]"
            ]
          },
          "metadata": {
            "tags": []
          },
          "execution_count": 142
        }
      ]
    },
    {
      "cell_type": "markdown",
      "metadata": {
        "id": "MNOpL0Nq2B9s",
        "colab_type": "text"
      },
      "source": [
        "### Train test split"
      ]
    },
    {
      "cell_type": "code",
      "metadata": {
        "id": "kZhM1yRN2EjS",
        "colab_type": "code",
        "colab": {}
      },
      "source": [
        "from sklearn.model_selection import train_test_split\n",
        "\n",
        "X = data.drop('class',axis=1)\n",
        "Y = data['class']\n",
        "\n",
        "X_train,X_test,Y_train,Y_test = train_test_split(X,Y, test_size=0.1)"
      ],
      "execution_count": 0,
      "outputs": []
    },
    {
      "cell_type": "code",
      "metadata": {
        "id": "6E6LXwSI2bRR",
        "colab_type": "code",
        "colab": {
          "base_uri": "https://localhost:8080/",
          "height": 34
        },
        "outputId": "2e39cc5c-1315-4e9a-d38f-4c32f9ed1743"
      },
      "source": [
        "print(Y.mean(),Y_train.mean(),Y_test.mean())"
      ],
      "execution_count": 144,
      "outputs": [
        {
          "output_type": "stream",
          "text": [
            "0.6274165202108963 0.626953125 0.631578947368421\n"
          ],
          "name": "stdout"
        }
      ]
    },
    {
      "cell_type": "code",
      "metadata": {
        "id": "KNttOh2Q2hVu",
        "colab_type": "code",
        "colab": {
          "base_uri": "https://localhost:8080/",
          "height": 34
        },
        "outputId": "eb680fbe-9fde-4ee0-b8be-4443baefdd92"
      },
      "source": [
        "X_train,X_test,Y_train,Y_test = train_test_split(X,Y, test_size=0.1,stratify=Y,random_state=1)\n",
        "print(Y.mean(),Y_train.mean(),Y_test.mean())"
      ],
      "execution_count": 123,
      "outputs": [
        {
          "output_type": "stream",
          "text": [
            "0.6274165202108963 0.626953125 0.631578947368421\n"
          ],
          "name": "stdout"
        }
      ]
    },
    {
      "cell_type": "markdown",
      "metadata": {
        "id": "xW_Pll6Y2v-N",
        "colab_type": "text"
      },
      "source": [
        "### Binarisation"
      ]
    },
    {
      "cell_type": "code",
      "metadata": {
        "id": "fa9AgQmh2vps",
        "colab_type": "code",
        "colab": {}
      },
      "source": [
        "import matplotlib.pyplot as plt\n",
        "plt.style.use(['dark_background'])"
      ],
      "execution_count": 0,
      "outputs": []
    },
    {
      "cell_type": "code",
      "metadata": {
        "id": "L2IShVqs24j9",
        "colab_type": "code",
        "colab": {
          "base_uri": "https://localhost:8080/",
          "height": 374
        },
        "outputId": "6d2fec08-99fd-4734-c811-3f9fff8be2ff"
      },
      "source": [
        "fig = plt.figure(figsize=(8,6))\n",
        "plt.plot(X_train,'*')\n",
        "plt.show()"
      ],
      "execution_count": 20,
      "outputs": [
        {
          "output_type": "display_data",
          "data": {
            "image/png": "[encoded data removed]",
            "text/plain": [
              "<Figure size 576x432 with 1 Axes>"
            ]
          },
          "metadata": {
            "tags": []
          }
        }
      ]
    },
    {
      "cell_type": "code",
      "metadata": {
        "id": "X9_4dSKU3iRr",
        "colab_type": "code",
        "colab": {
          "base_uri": "https://localhost:8080/",
          "height": 196
        },
        "outputId": "8991ec5d-05d2-4bbe-f547-238183770cea"
      },
      "source": [
        "X_train.head(3)"
      ],
      "execution_count": 22,
      "outputs": [
        {
          "output_type": "execute_result",
          "data": {
            "text/html": [
              "<div>\n",
              "<style scoped>\n",
              "    .dataframe tbody tr th:only-of-type {\n",
              "        vertical-align: middle;\n",
              "    }\n",
              "\n",
              "    .dataframe tbody tr th {\n",
              "        vertical-align: top;\n",
              "    }\n",
              "\n",
              "    .dataframe thead th {\n",
              "        text-align: right;\n",
              "    }\n",
              "</style>\n",
              "<table border=\"1\" class=\"dataframe\">\n",
              "  <thead>\n",
              "    <tr style=\"text-align: right;\">\n",
              "      <th></th>\n",
              "      <th>mean radius</th>\n",
              "      <th>mean texture</th>\n",
              "      <th>mean perimeter</th>\n",
              "      <th>mean area</th>\n",
              "      <th>mean smoothness</th>\n",
              "      <th>mean compactness</th>\n",
              "      <th>mean concavity</th>\n",
              "      <th>mean concave points</th>\n",
              "      <th>mean symmetry</th>\n",
              "      <th>mean fractal dimension</th>\n",
              "      <th>radius error</th>\n",
              "      <th>texture error</th>\n",
              "      <th>perimeter error</th>\n",
              "      <th>area error</th>\n",
              "      <th>smoothness error</th>\n",
              "      <th>compactness error</th>\n",
              "      <th>concavity error</th>\n",
              "      <th>concave points error</th>\n",
              "      <th>symmetry error</th>\n",
              "      <th>fractal dimension error</th>\n",
              "      <th>worst radius</th>\n",
              "      <th>worst texture</th>\n",
              "      <th>worst perimeter</th>\n",
              "      <th>worst area</th>\n",
              "      <th>worst smoothness</th>\n",
              "      <th>worst compactness</th>\n",
              "      <th>worst concavity</th>\n",
              "      <th>worst concave points</th>\n",
              "      <th>worst symmetry</th>\n",
              "      <th>worst fractal dimension</th>\n",
              "    </tr>\n",
              "  </thead>\n",
              "  <tbody>\n",
              "    <tr>\n",
              "      <th>430</th>\n",
              "      <td>14.90</td>\n",
              "      <td>22.53</td>\n",
              "      <td>102.10</td>\n",
              "      <td>685.0</td>\n",
              "      <td>0.09947</td>\n",
              "      <td>0.22250</td>\n",
              "      <td>0.27330</td>\n",
              "      <td>0.09711</td>\n",
              "      <td>0.2041</td>\n",
              "      <td>0.06898</td>\n",
              "      <td>0.2530</td>\n",
              "      <td>0.8749</td>\n",
              "      <td>3.466</td>\n",
              "      <td>24.19</td>\n",
              "      <td>0.006965</td>\n",
              "      <td>0.06213</td>\n",
              "      <td>0.07926</td>\n",
              "      <td>0.02234</td>\n",
              "      <td>0.01499</td>\n",
              "      <td>0.005784</td>\n",
              "      <td>16.35</td>\n",
              "      <td>27.57</td>\n",
              "      <td>125.40</td>\n",
              "      <td>832.7</td>\n",
              "      <td>0.1419</td>\n",
              "      <td>0.7090</td>\n",
              "      <td>0.9019</td>\n",
              "      <td>0.24750</td>\n",
              "      <td>0.2866</td>\n",
              "      <td>0.11550</td>\n",
              "    </tr>\n",
              "    <tr>\n",
              "      <th>48</th>\n",
              "      <td>12.05</td>\n",
              "      <td>14.63</td>\n",
              "      <td>78.04</td>\n",
              "      <td>449.3</td>\n",
              "      <td>0.10310</td>\n",
              "      <td>0.09092</td>\n",
              "      <td>0.06592</td>\n",
              "      <td>0.02749</td>\n",
              "      <td>0.1675</td>\n",
              "      <td>0.06043</td>\n",
              "      <td>0.2636</td>\n",
              "      <td>0.7294</td>\n",
              "      <td>1.848</td>\n",
              "      <td>19.87</td>\n",
              "      <td>0.005488</td>\n",
              "      <td>0.01427</td>\n",
              "      <td>0.02322</td>\n",
              "      <td>0.00566</td>\n",
              "      <td>0.01428</td>\n",
              "      <td>0.002422</td>\n",
              "      <td>13.76</td>\n",
              "      <td>20.70</td>\n",
              "      <td>89.88</td>\n",
              "      <td>582.6</td>\n",
              "      <td>0.1494</td>\n",
              "      <td>0.2156</td>\n",
              "      <td>0.3050</td>\n",
              "      <td>0.06548</td>\n",
              "      <td>0.2747</td>\n",
              "      <td>0.08301</td>\n",
              "    </tr>\n",
              "    <tr>\n",
              "      <th>105</th>\n",
              "      <td>13.11</td>\n",
              "      <td>15.56</td>\n",
              "      <td>87.21</td>\n",
              "      <td>530.2</td>\n",
              "      <td>0.13980</td>\n",
              "      <td>0.17650</td>\n",
              "      <td>0.20710</td>\n",
              "      <td>0.09601</td>\n",
              "      <td>0.1925</td>\n",
              "      <td>0.07692</td>\n",
              "      <td>0.3908</td>\n",
              "      <td>0.9238</td>\n",
              "      <td>2.410</td>\n",
              "      <td>34.66</td>\n",
              "      <td>0.007162</td>\n",
              "      <td>0.02912</td>\n",
              "      <td>0.05473</td>\n",
              "      <td>0.01388</td>\n",
              "      <td>0.01547</td>\n",
              "      <td>0.007098</td>\n",
              "      <td>16.31</td>\n",
              "      <td>22.40</td>\n",
              "      <td>106.40</td>\n",
              "      <td>827.2</td>\n",
              "      <td>0.1862</td>\n",
              "      <td>0.4099</td>\n",
              "      <td>0.6376</td>\n",
              "      <td>0.19860</td>\n",
              "      <td>0.3147</td>\n",
              "      <td>0.14050</td>\n",
              "    </tr>\n",
              "  </tbody>\n",
              "</table>\n",
              "</div>"
            ],
            "text/plain": [
              "     mean radius  mean texture  ...  worst symmetry  worst fractal dimension\n",
              "430        14.90         22.53  ...          0.2866                  0.11550\n",
              "48         12.05         14.63  ...          0.2747                  0.08301\n",
              "105        13.11         15.56  ...          0.3147                  0.14050\n",
              "\n",
              "[3 rows x 30 columns]"
            ]
          },
          "metadata": {
            "tags": []
          },
          "execution_count": 22
        }
      ]
    },
    {
      "cell_type": "code",
      "metadata": {
        "id": "F0rBKho83ndt",
        "colab_type": "code",
        "colab": {
          "base_uri": "https://localhost:8080/",
          "height": 242
        },
        "outputId": "ecf336f7-e59b-4948-b160-b36f00368882"
      },
      "source": [
        "X_train.T.head(3)"
      ],
      "execution_count": 23,
      "outputs": [
        {
          "output_type": "execute_result",
          "data": {
            "text/html": [
              "<div>\n",
              "<style scoped>\n",
              "    .dataframe tbody tr th:only-of-type {\n",
              "        vertical-align: middle;\n",
              "    }\n",
              "\n",
              "    .dataframe tbody tr th {\n",
              "        vertical-align: top;\n",
              "    }\n",
              "\n",
              "    .dataframe thead th {\n",
              "        text-align: right;\n",
              "    }\n",
              "</style>\n",
              "<table border=\"1\" class=\"dataframe\">\n",
              "  <thead>\n",
              "    <tr style=\"text-align: right;\">\n",
              "      <th></th>\n",
              "      <th>430</th>\n",
              "      <th>48</th>\n",
              "      <th>105</th>\n",
              "      <th>467</th>\n",
              "      <th>547</th>\n",
              "      <th>365</th>\n",
              "      <th>295</th>\n",
              "      <th>567</th>\n",
              "      <th>297</th>\n",
              "      <th>172</th>\n",
              "      <th>506</th>\n",
              "      <th>488</th>\n",
              "      <th>115</th>\n",
              "      <th>466</th>\n",
              "      <th>218</th>\n",
              "      <th>74</th>\n",
              "      <th>461</th>\n",
              "      <th>484</th>\n",
              "      <th>79</th>\n",
              "      <th>226</th>\n",
              "      <th>37</th>\n",
              "      <th>44</th>\n",
              "      <th>324</th>\n",
              "      <th>13</th>\n",
              "      <th>277</th>\n",
              "      <th>134</th>\n",
              "      <th>83</th>\n",
              "      <th>153</th>\n",
              "      <th>327</th>\n",
              "      <th>68</th>\n",
              "      <th>392</th>\n",
              "      <th>61</th>\n",
              "      <th>0</th>\n",
              "      <th>435</th>\n",
              "      <th>70</th>\n",
              "      <th>438</th>\n",
              "      <th>284</th>\n",
              "      <th>305</th>\n",
              "      <th>71</th>\n",
              "      <th>524</th>\n",
              "      <th>...</th>\n",
              "      <th>112</th>\n",
              "      <th>10</th>\n",
              "      <th>560</th>\n",
              "      <th>26</th>\n",
              "      <th>177</th>\n",
              "      <th>8</th>\n",
              "      <th>548</th>\n",
              "      <th>268</th>\n",
              "      <th>34</th>\n",
              "      <th>123</th>\n",
              "      <th>486</th>\n",
              "      <th>207</th>\n",
              "      <th>357</th>\n",
              "      <th>409</th>\n",
              "      <th>211</th>\n",
              "      <th>289</th>\n",
              "      <th>11</th>\n",
              "      <th>53</th>\n",
              "      <th>86</th>\n",
              "      <th>266</th>\n",
              "      <th>398</th>\n",
              "      <th>77</th>\n",
              "      <th>125</th>\n",
              "      <th>537</th>\n",
              "      <th>532</th>\n",
              "      <th>472</th>\n",
              "      <th>259</th>\n",
              "      <th>227</th>\n",
              "      <th>476</th>\n",
              "      <th>453</th>\n",
              "      <th>33</th>\n",
              "      <th>65</th>\n",
              "      <th>188</th>\n",
              "      <th>479</th>\n",
              "      <th>509</th>\n",
              "      <th>201</th>\n",
              "      <th>183</th>\n",
              "      <th>285</th>\n",
              "      <th>49</th>\n",
              "      <th>161</th>\n",
              "    </tr>\n",
              "  </thead>\n",
              "  <tbody>\n",
              "    <tr>\n",
              "      <th>mean radius</th>\n",
              "      <td>14.90</td>\n",
              "      <td>12.05</td>\n",
              "      <td>13.11</td>\n",
              "      <td>9.668</td>\n",
              "      <td>10.26</td>\n",
              "      <td>20.44</td>\n",
              "      <td>13.77</td>\n",
              "      <td>20.60</td>\n",
              "      <td>11.76</td>\n",
              "      <td>15.46</td>\n",
              "      <td>12.22</td>\n",
              "      <td>11.68</td>\n",
              "      <td>11.93</td>\n",
              "      <td>13.14</td>\n",
              "      <td>19.80</td>\n",
              "      <td>12.31</td>\n",
              "      <td>27.42</td>\n",
              "      <td>15.73</td>\n",
              "      <td>12.86</td>\n",
              "      <td>10.44</td>\n",
              "      <td>13.03</td>\n",
              "      <td>13.17</td>\n",
              "      <td>12.20</td>\n",
              "      <td>15.85</td>\n",
              "      <td>18.81</td>\n",
              "      <td>18.45</td>\n",
              "      <td>19.10</td>\n",
              "      <td>11.15</td>\n",
              "      <td>12.03</td>\n",
              "      <td>9.029</td>\n",
              "      <td>15.49</td>\n",
              "      <td>8.598</td>\n",
              "      <td>17.99</td>\n",
              "      <td>13.98</td>\n",
              "      <td>18.94</td>\n",
              "      <td>13.85</td>\n",
              "      <td>12.89</td>\n",
              "      <td>11.60</td>\n",
              "      <td>8.888</td>\n",
              "      <td>9.847</td>\n",
              "      <td>...</td>\n",
              "      <td>14.26</td>\n",
              "      <td>16.02</td>\n",
              "      <td>14.05</td>\n",
              "      <td>14.58</td>\n",
              "      <td>16.46</td>\n",
              "      <td>13.00</td>\n",
              "      <td>9.683</td>\n",
              "      <td>12.87</td>\n",
              "      <td>16.13</td>\n",
              "      <td>14.50</td>\n",
              "      <td>14.64</td>\n",
              "      <td>17.01</td>\n",
              "      <td>13.87</td>\n",
              "      <td>12.27</td>\n",
              "      <td>11.84</td>\n",
              "      <td>11.37</td>\n",
              "      <td>15.78</td>\n",
              "      <td>18.22</td>\n",
              "      <td>14.48</td>\n",
              "      <td>10.60</td>\n",
              "      <td>11.06</td>\n",
              "      <td>18.05</td>\n",
              "      <td>13.85</td>\n",
              "      <td>11.69</td>\n",
              "      <td>13.68</td>\n",
              "      <td>14.92</td>\n",
              "      <td>15.53</td>\n",
              "      <td>15.00</td>\n",
              "      <td>14.20</td>\n",
              "      <td>14.53</td>\n",
              "      <td>19.27</td>\n",
              "      <td>14.78</td>\n",
              "      <td>11.81</td>\n",
              "      <td>16.25</td>\n",
              "      <td>15.46</td>\n",
              "      <td>17.54</td>\n",
              "      <td>11.41</td>\n",
              "      <td>12.58</td>\n",
              "      <td>13.49</td>\n",
              "      <td>19.19</td>\n",
              "    </tr>\n",
              "    <tr>\n",
              "      <th>mean texture</th>\n",
              "      <td>22.53</td>\n",
              "      <td>14.63</td>\n",
              "      <td>15.56</td>\n",
              "      <td>18.100</td>\n",
              "      <td>16.58</td>\n",
              "      <td>21.78</td>\n",
              "      <td>13.27</td>\n",
              "      <td>29.33</td>\n",
              "      <td>18.14</td>\n",
              "      <td>11.89</td>\n",
              "      <td>20.04</td>\n",
              "      <td>16.17</td>\n",
              "      <td>21.53</td>\n",
              "      <td>20.74</td>\n",
              "      <td>21.56</td>\n",
              "      <td>16.52</td>\n",
              "      <td>26.27</td>\n",
              "      <td>11.28</td>\n",
              "      <td>18.00</td>\n",
              "      <td>15.46</td>\n",
              "      <td>18.42</td>\n",
              "      <td>21.81</td>\n",
              "      <td>15.21</td>\n",
              "      <td>23.95</td>\n",
              "      <td>19.98</td>\n",
              "      <td>21.91</td>\n",
              "      <td>26.29</td>\n",
              "      <td>13.08</td>\n",
              "      <td>17.93</td>\n",
              "      <td>17.330</td>\n",
              "      <td>19.97</td>\n",
              "      <td>20.980</td>\n",
              "      <td>10.38</td>\n",
              "      <td>19.62</td>\n",
              "      <td>21.31</td>\n",
              "      <td>19.60</td>\n",
              "      <td>15.70</td>\n",
              "      <td>24.49</td>\n",
              "      <td>14.640</td>\n",
              "      <td>15.680</td>\n",
              "      <td>...</td>\n",
              "      <td>19.65</td>\n",
              "      <td>23.24</td>\n",
              "      <td>27.15</td>\n",
              "      <td>21.53</td>\n",
              "      <td>20.11</td>\n",
              "      <td>21.82</td>\n",
              "      <td>19.340</td>\n",
              "      <td>16.21</td>\n",
              "      <td>17.88</td>\n",
              "      <td>10.89</td>\n",
              "      <td>16.85</td>\n",
              "      <td>20.26</td>\n",
              "      <td>16.21</td>\n",
              "      <td>17.92</td>\n",
              "      <td>18.94</td>\n",
              "      <td>18.89</td>\n",
              "      <td>17.89</td>\n",
              "      <td>18.70</td>\n",
              "      <td>21.46</td>\n",
              "      <td>18.95</td>\n",
              "      <td>14.83</td>\n",
              "      <td>16.15</td>\n",
              "      <td>17.21</td>\n",
              "      <td>24.44</td>\n",
              "      <td>16.33</td>\n",
              "      <td>14.93</td>\n",
              "      <td>33.56</td>\n",
              "      <td>15.51</td>\n",
              "      <td>20.53</td>\n",
              "      <td>13.98</td>\n",
              "      <td>26.47</td>\n",
              "      <td>23.94</td>\n",
              "      <td>17.39</td>\n",
              "      <td>19.51</td>\n",
              "      <td>23.95</td>\n",
              "      <td>19.32</td>\n",
              "      <td>14.92</td>\n",
              "      <td>18.40</td>\n",
              "      <td>22.30</td>\n",
              "      <td>15.94</td>\n",
              "    </tr>\n",
              "    <tr>\n",
              "      <th>mean perimeter</th>\n",
              "      <td>102.10</td>\n",
              "      <td>78.04</td>\n",
              "      <td>87.21</td>\n",
              "      <td>61.060</td>\n",
              "      <td>65.85</td>\n",
              "      <td>133.80</td>\n",
              "      <td>88.06</td>\n",
              "      <td>140.10</td>\n",
              "      <td>75.00</td>\n",
              "      <td>102.50</td>\n",
              "      <td>79.47</td>\n",
              "      <td>75.49</td>\n",
              "      <td>76.53</td>\n",
              "      <td>85.98</td>\n",
              "      <td>129.70</td>\n",
              "      <td>79.19</td>\n",
              "      <td>186.90</td>\n",
              "      <td>102.80</td>\n",
              "      <td>83.19</td>\n",
              "      <td>66.62</td>\n",
              "      <td>82.61</td>\n",
              "      <td>85.42</td>\n",
              "      <td>78.01</td>\n",
              "      <td>103.70</td>\n",
              "      <td>120.90</td>\n",
              "      <td>120.20</td>\n",
              "      <td>129.10</td>\n",
              "      <td>70.87</td>\n",
              "      <td>76.09</td>\n",
              "      <td>58.790</td>\n",
              "      <td>102.40</td>\n",
              "      <td>54.660</td>\n",
              "      <td>122.80</td>\n",
              "      <td>91.12</td>\n",
              "      <td>123.60</td>\n",
              "      <td>88.68</td>\n",
              "      <td>84.08</td>\n",
              "      <td>74.23</td>\n",
              "      <td>58.790</td>\n",
              "      <td>63.000</td>\n",
              "      <td>...</td>\n",
              "      <td>97.83</td>\n",
              "      <td>102.70</td>\n",
              "      <td>91.38</td>\n",
              "      <td>97.41</td>\n",
              "      <td>109.30</td>\n",
              "      <td>87.50</td>\n",
              "      <td>61.050</td>\n",
              "      <td>82.38</td>\n",
              "      <td>107.00</td>\n",
              "      <td>94.28</td>\n",
              "      <td>94.21</td>\n",
              "      <td>109.70</td>\n",
              "      <td>88.52</td>\n",
              "      <td>78.41</td>\n",
              "      <td>75.51</td>\n",
              "      <td>72.17</td>\n",
              "      <td>103.60</td>\n",
              "      <td>120.30</td>\n",
              "      <td>94.25</td>\n",
              "      <td>69.28</td>\n",
              "      <td>70.31</td>\n",
              "      <td>120.20</td>\n",
              "      <td>88.44</td>\n",
              "      <td>76.37</td>\n",
              "      <td>87.76</td>\n",
              "      <td>96.45</td>\n",
              "      <td>103.70</td>\n",
              "      <td>97.45</td>\n",
              "      <td>92.41</td>\n",
              "      <td>93.86</td>\n",
              "      <td>127.90</td>\n",
              "      <td>97.40</td>\n",
              "      <td>75.27</td>\n",
              "      <td>109.80</td>\n",
              "      <td>103.80</td>\n",
              "      <td>115.10</td>\n",
              "      <td>73.53</td>\n",
              "      <td>79.83</td>\n",
              "      <td>86.91</td>\n",
              "      <td>126.30</td>\n",
              "    </tr>\n",
              "  </tbody>\n",
              "</table>\n",
              "<p>3 rows × 512 columns</p>\n",
              "</div>"
            ],
            "text/plain": [
              "                   430    48     105     467  ...    183    285    49      161\n",
              "mean radius      14.90  12.05  13.11   9.668  ...  11.41  12.58  13.49   19.19\n",
              "mean texture     22.53  14.63  15.56  18.100  ...  14.92  18.40  22.30   15.94\n",
              "mean perimeter  102.10  78.04  87.21  61.060  ...  73.53  79.83  86.91  126.30\n",
              "\n",
              "[3 rows x 512 columns]"
            ]
          },
          "metadata": {
            "tags": []
          },
          "execution_count": 23
        }
      ]
    },
    {
      "cell_type": "code",
      "metadata": {
        "id": "9HbRq3xq3sfq",
        "colab_type": "code",
        "colab": {
          "base_uri": "https://localhost:8080/",
          "height": 591
        },
        "outputId": "8a46dd78-8f81-44a0-a422-e598b948182e"
      },
      "source": [
        "fig = plt.figure(figsize=(12,8))\n",
        "plt.plot(X_train.T,'*')\n",
        "plt.xticks(rotation='vertical')\n",
        "plt.show()"
      ],
      "execution_count": 27,
      "outputs": [
        {
          "output_type": "display_data",
          "data": {
            "image/png": "[encoded data removed]",
            "text/plain": [
              "<Figure size 864x576 with 1 Axes>"
            ]
          },
          "metadata": {
            "tags": []
          }
        }
      ]
    },
    {
      "cell_type": "code",
      "metadata": {
        "id": "iyj-Vs_w39Ys",
        "colab_type": "code",
        "colab": {}
      },
      "source": [
        "X_binarized_train = X_train.apply(pd.cut,bins=2,labels=[0,1])"
      ],
      "execution_count": 0,
      "outputs": []
    },
    {
      "cell_type": "code",
      "metadata": {
        "id": "ys7jOPDo4JwX",
        "colab_type": "code",
        "colab": {
          "base_uri": "https://localhost:8080/",
          "height": 591
        },
        "outputId": "90add7c1-027f-48f4-ed06-31b46f1d690a"
      },
      "source": [
        "fig = plt.figure(figsize=(12,8))\n",
        "plt.plot(X_binarized_train.T,'*')\n",
        "plt.xticks(rotation='vertical')\n",
        "plt.show()"
      ],
      "execution_count": 29,
      "outputs": [
        {
          "output_type": "display_data",
          "data": {
            "image/png": "[encoded data removed]",
            "text/plain": [
              "<Figure size 864x576 with 1 Axes>"
            ]
          },
          "metadata": {
            "tags": []
          }
        }
      ]
    },
    {
      "cell_type": "code",
      "metadata": {
        "id": "qFwJpm6a4bcm",
        "colab_type": "code",
        "colab": {}
      },
      "source": [
        "X_binarized_test = X_test.apply(pd.cut,bins=2,labels=[0,1])"
      ],
      "execution_count": 0,
      "outputs": []
    },
    {
      "cell_type": "code",
      "metadata": {
        "id": "AHnWj-Xe4OmJ",
        "colab_type": "code",
        "colab": {}
      },
      "source": [
        "X_binarized_train = X_binarized_train.values\n",
        "X_binarized_test = X_binarized_test.values"
      ],
      "execution_count": 0,
      "outputs": []
    },
    {
      "cell_type": "markdown",
      "metadata": {
        "id": "GKDdRCFC95qY",
        "colab_type": "text"
      },
      "source": [
        "### MP Neuron Model"
      ]
    },
    {
      "cell_type": "code",
      "metadata": {
        "id": "zynQQzqf4Od4",
        "colab_type": "code",
        "colab": {
          "base_uri": "https://localhost:8080/",
          "height": 68
        },
        "outputId": "a16de859-117a-462f-f8d5-9dfa9343feca"
      },
      "source": [
        "from random import randint\n",
        "\n",
        "b = 3\n",
        "i = randint(0,X_binarized_train.shape[0])\n",
        "\n",
        "print(\"For row\",i)\n",
        "\n",
        "if (np.sum(X_binarized_train[i:])> b):\n",
        "  print(\"MP Neuron inference is malignant\")\n",
        "else:\n",
        "  print(\"MP Neuron inference is benign\")\n",
        "\n",
        "if(Y_train[i] == 1):\n",
        "  print(\"Ground truth is malignant\")\n",
        "else:\n",
        "  print(\"Ground truth is benign\")\n"
      ],
      "execution_count": 46,
      "outputs": [
        {
          "output_type": "stream",
          "text": [
            "For row 497\n",
            "MP Neuron inference is malignant\n",
            "Ground truth is malignant\n"
          ],
          "name": "stdout"
        }
      ]
    },
    {
      "cell_type": "code",
      "metadata": {
        "id": "Hs0dE8wd_C27",
        "colab_type": "code",
        "colab": {
          "base_uri": "https://localhost:8080/",
          "height": 34
        },
        "outputId": "6facaa14-8955-4945-8922-a2a42259609d"
      },
      "source": [
        "b = 3\n",
        "Y_pred_train =[]\n",
        "accurate_rows = 0\n",
        "for x,y in zip(X_binarized_train,Y_train):\n",
        "  y_pred = (np.sum(x) >=b)\n",
        "  Y_pred_train.append(y_pred)\n",
        "  accurate_rows += (y_pred == y)\n",
        "\n",
        "print(accurate_rows,accurate_rows /X_binarized_train.shape[0] )"
      ],
      "execution_count": 51,
      "outputs": [
        {
          "output_type": "stream",
          "text": [
            "77 0.150390625\n"
          ],
          "name": "stdout"
        }
      ]
    },
    {
      "cell_type": "code",
      "metadata": {
        "id": "F5BBO6haADKE",
        "colab_type": "code",
        "colab": {
          "base_uri": "https://localhost:8080/",
          "height": 544
        },
        "outputId": "1e0a6433-045a-45a3-ef37-4f5eb2f71e21"
      },
      "source": [
        "for b in range(X_binarized_train.shape[1] + 1):\n",
        "  Y_pred_train =[]\n",
        "  accurate_rows = 0\n",
        "  for x,y in zip(X_binarized_train,Y_train):\n",
        "    y_pred = (np.sum(x) >=b)\n",
        "    Y_pred_train.append(y_pred)\n",
        "    accurate_rows += (y_pred == y)\n",
        "\n",
        "  print(b,accurate_rows,accurate_rows /X_binarized_train.shape[0] )"
      ],
      "execution_count": 55,
      "outputs": [
        {
          "output_type": "stream",
          "text": [
            "0 321 0.626953125\n",
            "1 123 0.240234375\n",
            "2 95 0.185546875\n",
            "3 77 0.150390625\n",
            "4 79 0.154296875\n",
            "5 93 0.181640625\n",
            "6 110 0.21484375\n",
            "7 125 0.244140625\n",
            "8 141 0.275390625\n",
            "9 153 0.298828125\n",
            "10 160 0.3125\n",
            "11 168 0.328125\n",
            "12 172 0.3359375\n",
            "13 176 0.34375\n",
            "14 180 0.3515625\n",
            "15 183 0.357421875\n",
            "16 188 0.3671875\n",
            "17 189 0.369140625\n",
            "18 191 0.373046875\n",
            "19 191 0.373046875\n",
            "20 191 0.373046875\n",
            "21 191 0.373046875\n",
            "22 191 0.373046875\n",
            "23 191 0.373046875\n",
            "24 191 0.373046875\n",
            "25 191 0.373046875\n",
            "26 191 0.373046875\n",
            "27 191 0.373046875\n",
            "28 191 0.373046875\n",
            "29 191 0.373046875\n",
            "30 191 0.373046875\n"
          ],
          "name": "stdout"
        }
      ]
    },
    {
      "cell_type": "markdown",
      "metadata": {
        "id": "buSaLsiFA3eX",
        "colab_type": "text"
      },
      "source": [
        "### As part of binarization ,we splitted the data into two bins as 0,1.\n",
        "\n",
        "For example : radius mean is lower for 1 and higher for 0. But what we did is assigned 1 for higher range and 0 for lower range during binarization techniques. \n",
        "\n",
        "We can swap the binarization labels but it might not applied to all the features we have. But we can try that \n"
      ]
    },
    {
      "cell_type": "code",
      "metadata": {
        "id": "JyPUnmPNBFBt",
        "colab_type": "code",
        "colab": {
          "base_uri": "https://localhost:8080/",
          "height": 196
        },
        "outputId": "5572d991-2a72-4484-f8ac-839e22b1d24c"
      },
      "source": [
        "data.groupby('class').mean()"
      ],
      "execution_count": 56,
      "outputs": [
        {
          "output_type": "execute_result",
          "data": {
            "text/html": [
              "<div>\n",
              "<style scoped>\n",
              "    .dataframe tbody tr th:only-of-type {\n",
              "        vertical-align: middle;\n",
              "    }\n",
              "\n",
              "    .dataframe tbody tr th {\n",
              "        vertical-align: top;\n",
              "    }\n",
              "\n",
              "    .dataframe thead th {\n",
              "        text-align: right;\n",
              "    }\n",
              "</style>\n",
              "<table border=\"1\" class=\"dataframe\">\n",
              "  <thead>\n",
              "    <tr style=\"text-align: right;\">\n",
              "      <th></th>\n",
              "      <th>mean radius</th>\n",
              "      <th>mean texture</th>\n",
              "      <th>mean perimeter</th>\n",
              "      <th>mean area</th>\n",
              "      <th>mean smoothness</th>\n",
              "      <th>mean compactness</th>\n",
              "      <th>mean concavity</th>\n",
              "      <th>mean concave points</th>\n",
              "      <th>mean symmetry</th>\n",
              "      <th>mean fractal dimension</th>\n",
              "      <th>radius error</th>\n",
              "      <th>texture error</th>\n",
              "      <th>perimeter error</th>\n",
              "      <th>area error</th>\n",
              "      <th>smoothness error</th>\n",
              "      <th>compactness error</th>\n",
              "      <th>concavity error</th>\n",
              "      <th>concave points error</th>\n",
              "      <th>symmetry error</th>\n",
              "      <th>fractal dimension error</th>\n",
              "      <th>worst radius</th>\n",
              "      <th>worst texture</th>\n",
              "      <th>worst perimeter</th>\n",
              "      <th>worst area</th>\n",
              "      <th>worst smoothness</th>\n",
              "      <th>worst compactness</th>\n",
              "      <th>worst concavity</th>\n",
              "      <th>worst concave points</th>\n",
              "      <th>worst symmetry</th>\n",
              "      <th>worst fractal dimension</th>\n",
              "    </tr>\n",
              "    <tr>\n",
              "      <th>class</th>\n",
              "      <th></th>\n",
              "      <th></th>\n",
              "      <th></th>\n",
              "      <th></th>\n",
              "      <th></th>\n",
              "      <th></th>\n",
              "      <th></th>\n",
              "      <th></th>\n",
              "      <th></th>\n",
              "      <th></th>\n",
              "      <th></th>\n",
              "      <th></th>\n",
              "      <th></th>\n",
              "      <th></th>\n",
              "      <th></th>\n",
              "      <th></th>\n",
              "      <th></th>\n",
              "      <th></th>\n",
              "      <th></th>\n",
              "      <th></th>\n",
              "      <th></th>\n",
              "      <th></th>\n",
              "      <th></th>\n",
              "      <th></th>\n",
              "      <th></th>\n",
              "      <th></th>\n",
              "      <th></th>\n",
              "      <th></th>\n",
              "      <th></th>\n",
              "      <th></th>\n",
              "    </tr>\n",
              "  </thead>\n",
              "  <tbody>\n",
              "    <tr>\n",
              "      <th>0</th>\n",
              "      <td>17.462830</td>\n",
              "      <td>21.604906</td>\n",
              "      <td>115.365377</td>\n",
              "      <td>978.376415</td>\n",
              "      <td>0.102898</td>\n",
              "      <td>0.145188</td>\n",
              "      <td>0.160775</td>\n",
              "      <td>0.087990</td>\n",
              "      <td>0.192909</td>\n",
              "      <td>0.062680</td>\n",
              "      <td>0.609083</td>\n",
              "      <td>1.210915</td>\n",
              "      <td>4.323929</td>\n",
              "      <td>72.672406</td>\n",
              "      <td>0.006780</td>\n",
              "      <td>0.032281</td>\n",
              "      <td>0.041824</td>\n",
              "      <td>0.015060</td>\n",
              "      <td>0.020472</td>\n",
              "      <td>0.004062</td>\n",
              "      <td>21.134811</td>\n",
              "      <td>29.318208</td>\n",
              "      <td>141.370330</td>\n",
              "      <td>1422.286321</td>\n",
              "      <td>0.144845</td>\n",
              "      <td>0.374824</td>\n",
              "      <td>0.450606</td>\n",
              "      <td>0.182237</td>\n",
              "      <td>0.323468</td>\n",
              "      <td>0.091530</td>\n",
              "    </tr>\n",
              "    <tr>\n",
              "      <th>1</th>\n",
              "      <td>12.146524</td>\n",
              "      <td>17.914762</td>\n",
              "      <td>78.075406</td>\n",
              "      <td>462.790196</td>\n",
              "      <td>0.092478</td>\n",
              "      <td>0.080085</td>\n",
              "      <td>0.046058</td>\n",
              "      <td>0.025717</td>\n",
              "      <td>0.174186</td>\n",
              "      <td>0.062867</td>\n",
              "      <td>0.284082</td>\n",
              "      <td>1.220380</td>\n",
              "      <td>2.000321</td>\n",
              "      <td>21.135148</td>\n",
              "      <td>0.007196</td>\n",
              "      <td>0.021438</td>\n",
              "      <td>0.025997</td>\n",
              "      <td>0.009858</td>\n",
              "      <td>0.020584</td>\n",
              "      <td>0.003636</td>\n",
              "      <td>13.379801</td>\n",
              "      <td>23.515070</td>\n",
              "      <td>87.005938</td>\n",
              "      <td>558.899440</td>\n",
              "      <td>0.124959</td>\n",
              "      <td>0.182673</td>\n",
              "      <td>0.166238</td>\n",
              "      <td>0.074444</td>\n",
              "      <td>0.270246</td>\n",
              "      <td>0.079442</td>\n",
              "    </tr>\n",
              "  </tbody>\n",
              "</table>\n",
              "</div>"
            ],
            "text/plain": [
              "       mean radius  mean texture  ...  worst symmetry  worst fractal dimension\n",
              "class                             ...                                         \n",
              "0        17.462830     21.604906  ...        0.323468                 0.091530\n",
              "1        12.146524     17.914762  ...        0.270246                 0.079442\n",
              "\n",
              "[2 rows x 30 columns]"
            ]
          },
          "metadata": {
            "tags": []
          },
          "execution_count": 56
        }
      ]
    },
    {
      "cell_type": "markdown",
      "metadata": {
        "id": "Lb5mmpTQB1wr",
        "colab_type": "text"
      },
      "source": [
        "### Reruning binarization"
      ]
    },
    {
      "cell_type": "code",
      "metadata": {
        "id": "9DmnOYO_B0cj",
        "colab_type": "code",
        "colab": {
          "base_uri": "https://localhost:8080/",
          "height": 544
        },
        "outputId": "98b4860a-dcfe-49e9-f0af-1a67a479d86a"
      },
      "source": [
        "X_binarized_train = X_train.apply(pd.cut,bins=2,labels=[1,0])\n",
        "X_binarized_test = X_test.apply(pd.cut,bins=2,labels=[1,0])\n",
        "X_binarized_train = X_binarized_train.values\n",
        "X_binarized_test = X_binarized_test.values\n",
        "for b in range(X_binarized_train.shape[1] + 1):\n",
        "  Y_pred_train =[]\n",
        "  accurate_rows = 0\n",
        "  for x,y in zip(X_binarized_train,Y_train):\n",
        "    y_pred = (np.sum(x) >=b)\n",
        "    Y_pred_train.append(y_pred)\n",
        "    accurate_rows += (y_pred == y)\n",
        "\n",
        "  print(b,accurate_rows,accurate_rows /X_binarized_train.shape[0] )"
      ],
      "execution_count": 58,
      "outputs": [
        {
          "output_type": "stream",
          "text": [
            "0 321 0.626953125\n",
            "1 321 0.626953125\n",
            "2 321 0.626953125\n",
            "3 321 0.626953125\n",
            "4 321 0.626953125\n",
            "5 321 0.626953125\n",
            "6 321 0.626953125\n",
            "7 321 0.626953125\n",
            "8 321 0.626953125\n",
            "9 321 0.626953125\n",
            "10 321 0.626953125\n",
            "11 321 0.626953125\n",
            "12 321 0.626953125\n",
            "13 321 0.626953125\n",
            "14 323 0.630859375\n",
            "15 324 0.6328125\n",
            "16 329 0.642578125\n",
            "17 332 0.6484375\n",
            "18 336 0.65625\n",
            "19 340 0.6640625\n",
            "20 344 0.671875\n",
            "21 352 0.6875\n",
            "22 359 0.701171875\n",
            "23 371 0.724609375\n",
            "24 387 0.755859375\n",
            "25 402 0.78515625\n",
            "26 419 0.818359375\n",
            "27 433 0.845703125\n",
            "28 435 0.849609375\n",
            "29 417 0.814453125\n",
            "30 389 0.759765625\n"
          ],
          "name": "stdout"
        }
      ]
    },
    {
      "cell_type": "markdown",
      "metadata": {
        "id": "MA9c2OIZCDME",
        "colab_type": "text"
      },
      "source": [
        "You could noticed here that when b=28 , the accuracy is higher "
      ]
    },
    {
      "cell_type": "code",
      "metadata": {
        "id": "FUFi-fAVC4fC",
        "colab_type": "code",
        "colab": {}
      },
      "source": [
        "from sklearn.metrics import accuracy_score"
      ],
      "execution_count": 0,
      "outputs": []
    },
    {
      "cell_type": "code",
      "metadata": {
        "id": "LhhgCnDzCCfr",
        "colab_type": "code",
        "colab": {
          "base_uri": "https://localhost:8080/",
          "height": 34
        },
        "outputId": "14c3263a-2a56-4c40-ef64-d29d053cee5e"
      },
      "source": [
        "b = 28\n",
        "Y_pred_test =[]\n",
        "for x in X_binarized_test:\n",
        "  y_pred = (np.sum(x) >=b)\n",
        "  Y_pred_test.append(y_pred)\n",
        "\n",
        "accuracy = accuracy_score(Y_pred_test,Y_test)\n",
        "\n",
        "print(b,accuracy)"
      ],
      "execution_count": 63,
      "outputs": [
        {
          "output_type": "stream",
          "text": [
            "28 0.7894736842105263\n"
          ],
          "name": "stdout"
        }
      ]
    },
    {
      "cell_type": "markdown",
      "metadata": {
        "id": "2pUaF8asD34f",
        "colab_type": "text"
      },
      "source": [
        "# **MP Neuron Class**"
      ]
    },
    {
      "cell_type": "code",
      "metadata": {
        "id": "ugzWnJkQEFI4",
        "colab_type": "code",
        "colab": {}
      },
      "source": [
        "class MPNeuron:\n",
        "  def __init__(self):\n",
        "    self.b = None\n",
        "  \n",
        "  def model(self,X):\n",
        "    return (sum(X) > self.b)\n",
        "  \n",
        "  def predict(self,X):\n",
        "    Y=[]\n",
        "    for x in X:\n",
        "      result = self.model(x)\n",
        "      Y.append(result)\n",
        "    return np.array(Y)\n",
        "  \n",
        "  def fit(self,X,Y):\n",
        "    accuracy = {}\n",
        "    for b in range(X.shape[1] + 1):\n",
        "      self.b=b\n",
        "      Y_pred = self.predict(X)\n",
        "      accuracy[b] = accuracy_score(Y_pred,Y)\n",
        "    best_b = max(accuracy,key = accuracy.get)\n",
        "    self.b = best_b\n",
        "\n",
        "    print(\"Optimal value of b is\",best_b)\n",
        "    print(\"Highest accuracy is \",accuracy[best_b])\n",
        "\n"
      ],
      "execution_count": 0,
      "outputs": []
    },
    {
      "cell_type": "code",
      "metadata": {
        "id": "dA-R5cLPIvfR",
        "colab_type": "code",
        "colab": {
          "base_uri": "https://localhost:8080/",
          "height": 51
        },
        "outputId": "7ca6b498-7c1f-405e-a75b-4e60a24b821f"
      },
      "source": [
        "mp_neuron = MPNeuron()\n",
        "mp_neuron.fit(X_binarized_train,Y_train)"
      ],
      "execution_count": 65,
      "outputs": [
        {
          "output_type": "stream",
          "text": [
            "Optimal value of b is 27\n",
            "Highest accuracy is  0.849609375\n"
          ],
          "name": "stdout"
        }
      ]
    },
    {
      "cell_type": "code",
      "metadata": {
        "id": "8JuUzVrTI3oT",
        "colab_type": "code",
        "colab": {
          "base_uri": "https://localhost:8080/",
          "height": 34
        },
        "outputId": "21d86be1-b5c0-49b1-9d87-cea236c3e264"
      },
      "source": [
        "Y_test_pred = mp_neuron.predict(X_binarized_test)\n",
        "accuracy_test = accuracy_score(Y_test_pred,Y_test)\n",
        "print(accuracy_test)"
      ],
      "execution_count": 67,
      "outputs": [
        {
          "output_type": "stream",
          "text": [
            "0.7894736842105263\n"
          ],
          "name": "stdout"
        }
      ]
    },
    {
      "cell_type": "markdown",
      "metadata": {
        "id": "E6H3hJrWNvLm",
        "colab_type": "text"
      },
      "source": [
        "# **Perceptron Class**\n"
      ]
    },
    {
      "cell_type": "code",
      "metadata": {
        "id": "UvJvIHJrlYEh",
        "colab_type": "code",
        "colab": {}
      },
      "source": [
        "import pandas as pd\n",
        "\n",
        "breast_cancer = sklearn.datasets.load_breast_cancer()\n",
        "\n",
        "X = breast_cancer.data\n",
        "Y = breast_cancer.target\n",
        "\n",
        "\n",
        "data = pd.DataFrame(data = breast_cancer.data , columns=breast_cancer.feature_names)\n",
        "data['class'] = breast_cancer.target\n",
        "\n",
        "from sklearn.model_selection import train_test_split\n",
        "\n",
        "X = data.drop('class',axis=1)\n",
        "Y = data['class']\n",
        "\n",
        "X_train,X_test,Y_train,Y_test = train_test_split(X,Y, test_size=0.1,stratify=Y,random_state=1)\n",
        "\n",
        "X_train = X_train.values\n",
        "X_test = X_test.values"
      ],
      "execution_count": 0,
      "outputs": []
    },
    {
      "cell_type": "code",
      "metadata": {
        "id": "3PSUUtiFNssX",
        "colab_type": "code",
        "colab": {}
      },
      "source": [
        "class Perceptron:\n",
        "  def __init__(self):\n",
        "    self.w = None\n",
        "    self.b = None\n",
        "\n",
        "  def model(self,x):\n",
        "    return 1 if (np.dot(self.w,x) >= self.b) else 0\n",
        "\n",
        "  def predict(self,X):\n",
        "    Y=[]\n",
        "    for x in X:\n",
        "      result = self.model(x)\n",
        "      Y.append(result)\n",
        "    return np.array(Y)\n",
        "\n",
        "  def fit(self,X,Y,epochs = 1,lr = 1):\n",
        "    self.w = np.ones(X.shape[1])\n",
        "    self.b = 0\n",
        "    accuracy = {}\n",
        "    max_accuracy=0\n",
        "\n",
        "    wt_matrix=[]\n",
        "\n",
        "    for i in range(epochs):\n",
        "      for x,y in zip(X,Y):\n",
        "        y_pred = self.model(x)\n",
        "        if y == 1 and y_pred == 0:\n",
        "          self.w = self.w + lr * x\n",
        "          self.b = self.b + lr * 1\n",
        "        elif y == 0 and y_pred == 1:\n",
        "          self.w = self.w - lr * x\n",
        "          self.b = self.b - lr * 1\n",
        "\n",
        "      wt_matrix.append(self.w)\n",
        "\n",
        "      accuracy[i] = accuracy_score(self.predict(X),Y)\n",
        "      if(accuracy[i] > max_accuracy):\n",
        "        max_accuracy = accuracy[i]\n",
        "        chkptw = self.w\n",
        "        chkptb = self.b\n",
        "\n",
        "      self.w = chkptw\n",
        "      self.b = chkptb\n",
        "\n",
        "    print(\"Max Accuracy\",max_accuracy)\n",
        "    plt.plot(list(accuracy.values()))\n",
        "    plt.ylim(0,1)\n",
        "    plt.show()\n",
        "\n",
        "    return np.array(wt_matrix)\n",
        "    "
      ],
      "execution_count": 0,
      "outputs": []
    },
    {
      "cell_type": "code",
      "metadata": {
        "id": "RrdOrwVXN9Dl",
        "colab_type": "code",
        "colab": {
          "base_uri": "https://localhost:8080/",
          "height": 286
        },
        "outputId": "deccf1d4-c06a-4d02-b9c5-98ce6084656b"
      },
      "source": [
        "perceptron = Perceptron()\n",
        "wt_matrix = perceptron.fit(X_train,Y_train,100,0.001)"
      ],
      "execution_count": 261,
      "outputs": [
        {
          "output_type": "stream",
          "text": [
            "Max Accuracy 0.869140625\n"
          ],
          "name": "stdout"
        },
        {
          "output_type": "display_data",
          "data": {
            "image/png": "[encoded data removed]",
            "text/plain": [
              "<Figure size 432x288 with 1 Axes>"
            ]
          },
          "metadata": {
            "tags": [],
            "needs_background": "dark"
          }
        }
      ]
    },
    {
      "cell_type": "code",
      "metadata": {
        "id": "Xv6_sw_qOmkC",
        "colab_type": "code",
        "colab": {
          "base_uri": "https://localhost:8080/",
          "height": 34
        },
        "outputId": "3e147672-8e07-4cbf-dfd5-648bdbdf181d"
      },
      "source": [
        "from sklearn.metrics import accuracy_score\n",
        "Y_pred_train = perceptron.predict(X_train)\n",
        "print(accuracy_score(Y_pred_train,Y_train))"
      ],
      "execution_count": 262,
      "outputs": [
        {
          "output_type": "stream",
          "text": [
            "0.869140625\n"
          ],
          "name": "stdout"
        }
      ]
    },
    {
      "cell_type": "code",
      "metadata": {
        "id": "-P-lbggpWVyk",
        "colab_type": "code",
        "colab": {
          "base_uri": "https://localhost:8080/",
          "height": 34
        },
        "outputId": "b98aa34d-1aac-4ad4-876b-1ff4a534e9b8"
      },
      "source": [
        "Y_pred_test = perceptron.predict(X_test)\n",
        "print(accuracy_score(Y_pred_test,Y_test))"
      ],
      "execution_count": 263,
      "outputs": [
        {
          "output_type": "stream",
          "text": [
            "0.8596491228070176\n"
          ],
          "name": "stdout"
        }
      ]
    },
    {
      "cell_type": "code",
      "metadata": {
        "id": "XkErN9fDWo7o",
        "colab_type": "code",
        "colab": {
          "base_uri": "https://localhost:8080/",
          "height": 267
        },
        "outputId": "534057b7-fbb6-4191-d0c4-713f16ff8bd8"
      },
      "source": [
        "plt.plot(wt_matrix[-1,:])\n",
        "plt.show()"
      ],
      "execution_count": 266,
      "outputs": [
        {
          "output_type": "display_data",
          "data": {
            "image/png": "[encoded data removed]",
            "text/plain": [
              "<Figure size 432x288 with 1 Axes>"
            ]
          },
          "metadata": {
            "tags": [],
            "needs_background": "dark"
          }
        }
      ]
    },
    {
      "cell_type": "code",
      "metadata": {
        "id": "KrQf1HktDhPr",
        "colab_type": "code",
        "colab": {
          "base_uri": "https://localhost:8080/",
          "height": 763
        },
        "outputId": "8802f595-b76f-4c3c-9c66-555a40777ebf"
      },
      "source": [
        "%matplotlib inline\n",
        "\n",
        "from matplotlib import animation,rc\n",
        "from IPython.display import HTML\n",
        "\n",
        "fig,ax=plt.subplots()\n",
        "ax.set_xlim((0,wt_matrix.shape[1]))\n",
        "ax.set_ylim((-10000,25000))\n",
        "\n",
        "line, = ax.plot([],[],lw=2)\n",
        "\n",
        "\n",
        "def animate():\n",
        "  x = list(range(wt_matrix.shape[1]))\n",
        "  y = wt_matrix[i,:]\n",
        "  line.set_data(x,y)\n",
        "  return (line,)\n",
        "\n",
        "anim = animation.FuncAnimation(fig,animate,frames=100,interval=20,blit=True)\n",
        "\n",
        "HTML(anim.to_html5_video())"
      ],
      "execution_count": 267,
      "outputs": [
        {
          "output_type": "stream",
          "text": [
            "Traceback (most recent call last):\n",
            "  File \"/usr/local/lib/python3.6/dist-packages/matplotlib/cbook/__init__.py\", line 196, in process\n",
            "    func(*args, **kwargs)\n",
            "  File \"/usr/local/lib/python3.6/dist-packages/matplotlib/animation.py\", line 951, in _start\n",
            "    self._init_draw()\n",
            "  File \"/usr/local/lib/python3.6/dist-packages/matplotlib/animation.py\", line 1743, in _init_draw\n",
            "    self._draw_frame(next(self.new_frame_seq()))\n",
            "  File \"/usr/local/lib/python3.6/dist-packages/matplotlib/animation.py\", line 1766, in _draw_frame\n",
            "    self._drawn_artists = self._func(framedata, *self._args)\n",
            "TypeError: animate() takes 0 positional arguments but 1 was given\n"
          ],
          "name": "stderr"
        },
        {
          "output_type": "error",
          "ename": "TypeError",
          "evalue": "ignored",
          "traceback": [
            "\u001b[0;31m---------------------------------------------------------------------------\u001b[0m",
            "\u001b[0;31mTypeError\u001b[0m                                 Traceback (most recent call last)",
            "\u001b[0;32m<ipython-input-267-e0b8bf63348e>\u001b[0m in \u001b[0;36m<module>\u001b[0;34m()\u001b[0m\n\u001b[1;32m     19\u001b[0m \u001b[0manim\u001b[0m \u001b[0;34m=\u001b[0m \u001b[0manimation\u001b[0m\u001b[0;34m.\u001b[0m\u001b[0mFuncAnimation\u001b[0m\u001b[0;34m(\u001b[0m\u001b[0mfig\u001b[0m\u001b[0;34m,\u001b[0m\u001b[0manimate\u001b[0m\u001b[0;34m,\u001b[0m\u001b[0mframes\u001b[0m\u001b[0;34m=\u001b[0m\u001b[0;36m100\u001b[0m\u001b[0;34m,\u001b[0m\u001b[0minterval\u001b[0m\u001b[0;34m=\u001b[0m\u001b[0;36m20\u001b[0m\u001b[0;34m,\u001b[0m\u001b[0mblit\u001b[0m\u001b[0;34m=\u001b[0m\u001b[0;32mTrue\u001b[0m\u001b[0;34m)\u001b[0m\u001b[0;34m\u001b[0m\u001b[0;34m\u001b[0m\u001b[0m\n\u001b[1;32m     20\u001b[0m \u001b[0;34m\u001b[0m\u001b[0m\n\u001b[0;32m---> 21\u001b[0;31m \u001b[0mHTML\u001b[0m\u001b[0;34m(\u001b[0m\u001b[0manim\u001b[0m\u001b[0;34m.\u001b[0m\u001b[0mto_html5_video\u001b[0m\u001b[0;34m(\u001b[0m\u001b[0;34m)\u001b[0m\u001b[0;34m)\u001b[0m\u001b[0;34m\u001b[0m\u001b[0;34m\u001b[0m\u001b[0m\n\u001b[0m",
            "\u001b[0;32m/usr/local/lib/python3.6/dist-packages/matplotlib/animation.py\u001b[0m in \u001b[0;36mto_html5_video\u001b[0;34m(self, embed_limit)\u001b[0m\n\u001b[1;32m   1330\u001b[0m                                 \u001b[0mbitrate\u001b[0m\u001b[0;34m=\u001b[0m\u001b[0mrcParams\u001b[0m\u001b[0;34m[\u001b[0m\u001b[0;34m'animation.bitrate'\u001b[0m\u001b[0;34m]\u001b[0m\u001b[0;34m,\u001b[0m\u001b[0;34m\u001b[0m\u001b[0;34m\u001b[0m\u001b[0m\n\u001b[1;32m   1331\u001b[0m                                 fps=1000. / self._interval)\n\u001b[0;32m-> 1332\u001b[0;31m                 \u001b[0mself\u001b[0m\u001b[0;34m.\u001b[0m\u001b[0msave\u001b[0m\u001b[0;34m(\u001b[0m\u001b[0mstr\u001b[0m\u001b[0;34m(\u001b[0m\u001b[0mpath\u001b[0m\u001b[0;34m)\u001b[0m\u001b[0;34m,\u001b[0m \u001b[0mwriter\u001b[0m\u001b[0;34m=\u001b[0m\u001b[0mwriter\u001b[0m\u001b[0;34m)\u001b[0m\u001b[0;34m\u001b[0m\u001b[0;34m\u001b[0m\u001b[0m\n\u001b[0m\u001b[1;32m   1333\u001b[0m                 \u001b[0;31m# Now open and base64 encode.\u001b[0m\u001b[0;34m\u001b[0m\u001b[0;34m\u001b[0m\u001b[0;34m\u001b[0m\u001b[0m\n\u001b[1;32m   1334\u001b[0m                 \u001b[0mvid64\u001b[0m \u001b[0;34m=\u001b[0m \u001b[0mbase64\u001b[0m\u001b[0;34m.\u001b[0m\u001b[0mencodebytes\u001b[0m\u001b[0;34m(\u001b[0m\u001b[0mpath\u001b[0m\u001b[0;34m.\u001b[0m\u001b[0mread_bytes\u001b[0m\u001b[0;34m(\u001b[0m\u001b[0;34m)\u001b[0m\u001b[0;34m)\u001b[0m\u001b[0;34m\u001b[0m\u001b[0;34m\u001b[0m\u001b[0m\n",
            "\u001b[0;32m/usr/local/lib/python3.6/dist-packages/matplotlib/animation.py\u001b[0m in \u001b[0;36msave\u001b[0;34m(self, filename, writer, fps, dpi, codec, bitrate, extra_args, metadata, extra_anim, savefig_kwargs, progress_callback)\u001b[0m\n\u001b[1;32m   1133\u001b[0m                 \u001b[0;32mfor\u001b[0m \u001b[0manim\u001b[0m \u001b[0;32min\u001b[0m \u001b[0mall_anim\u001b[0m\u001b[0;34m:\u001b[0m\u001b[0;34m\u001b[0m\u001b[0;34m\u001b[0m\u001b[0m\n\u001b[1;32m   1134\u001b[0m                     \u001b[0;31m# Clear the initial frame\u001b[0m\u001b[0;34m\u001b[0m\u001b[0;34m\u001b[0m\u001b[0;34m\u001b[0m\u001b[0m\n\u001b[0;32m-> 1135\u001b[0;31m                     \u001b[0manim\u001b[0m\u001b[0;34m.\u001b[0m\u001b[0m_init_draw\u001b[0m\u001b[0;34m(\u001b[0m\u001b[0;34m)\u001b[0m\u001b[0;34m\u001b[0m\u001b[0;34m\u001b[0m\u001b[0m\n\u001b[0m\u001b[1;32m   1136\u001b[0m                 \u001b[0mframe_number\u001b[0m \u001b[0;34m=\u001b[0m \u001b[0;36m0\u001b[0m\u001b[0;34m\u001b[0m\u001b[0;34m\u001b[0m\u001b[0m\n\u001b[1;32m   1137\u001b[0m                 \u001b[0;31m# TODO: Currently only FuncAnimation has a save_count\u001b[0m\u001b[0;34m\u001b[0m\u001b[0;34m\u001b[0m\u001b[0;34m\u001b[0m\u001b[0m\n",
            "\u001b[0;32m/usr/local/lib/python3.6/dist-packages/matplotlib/animation.py\u001b[0m in \u001b[0;36m_init_draw\u001b[0;34m(self)\u001b[0m\n\u001b[1;32m   1741\u001b[0m         \u001b[0;31m# artists.\u001b[0m\u001b[0;34m\u001b[0m\u001b[0;34m\u001b[0m\u001b[0;34m\u001b[0m\u001b[0m\n\u001b[1;32m   1742\u001b[0m         \u001b[0;32mif\u001b[0m \u001b[0mself\u001b[0m\u001b[0;34m.\u001b[0m\u001b[0m_init_func\u001b[0m \u001b[0;32mis\u001b[0m \u001b[0;32mNone\u001b[0m\u001b[0;34m:\u001b[0m\u001b[0;34m\u001b[0m\u001b[0;34m\u001b[0m\u001b[0m\n\u001b[0;32m-> 1743\u001b[0;31m             \u001b[0mself\u001b[0m\u001b[0;34m.\u001b[0m\u001b[0m_draw_frame\u001b[0m\u001b[0;34m(\u001b[0m\u001b[0mnext\u001b[0m\u001b[0;34m(\u001b[0m\u001b[0mself\u001b[0m\u001b[0;34m.\u001b[0m\u001b[0mnew_frame_seq\u001b[0m\u001b[0;34m(\u001b[0m\u001b[0;34m)\u001b[0m\u001b[0;34m)\u001b[0m\u001b[0;34m)\u001b[0m\u001b[0;34m\u001b[0m\u001b[0;34m\u001b[0m\u001b[0m\n\u001b[0m\u001b[1;32m   1744\u001b[0m \u001b[0;34m\u001b[0m\u001b[0m\n\u001b[1;32m   1745\u001b[0m         \u001b[0;32melse\u001b[0m\u001b[0;34m:\u001b[0m\u001b[0;34m\u001b[0m\u001b[0;34m\u001b[0m\u001b[0m\n",
            "\u001b[0;32m/usr/local/lib/python3.6/dist-packages/matplotlib/animation.py\u001b[0m in \u001b[0;36m_draw_frame\u001b[0;34m(self, framedata)\u001b[0m\n\u001b[1;32m   1764\u001b[0m         \u001b[0;31m# Call the func with framedata and args. If blitting is desired,\u001b[0m\u001b[0;34m\u001b[0m\u001b[0;34m\u001b[0m\u001b[0;34m\u001b[0m\u001b[0m\n\u001b[1;32m   1765\u001b[0m         \u001b[0;31m# func needs to return a sequence of any artists that were modified.\u001b[0m\u001b[0;34m\u001b[0m\u001b[0;34m\u001b[0m\u001b[0;34m\u001b[0m\u001b[0m\n\u001b[0;32m-> 1766\u001b[0;31m         \u001b[0mself\u001b[0m\u001b[0;34m.\u001b[0m\u001b[0m_drawn_artists\u001b[0m \u001b[0;34m=\u001b[0m \u001b[0mself\u001b[0m\u001b[0;34m.\u001b[0m\u001b[0m_func\u001b[0m\u001b[0;34m(\u001b[0m\u001b[0mframedata\u001b[0m\u001b[0;34m,\u001b[0m \u001b[0;34m*\u001b[0m\u001b[0mself\u001b[0m\u001b[0;34m.\u001b[0m\u001b[0m_args\u001b[0m\u001b[0;34m)\u001b[0m\u001b[0;34m\u001b[0m\u001b[0;34m\u001b[0m\u001b[0m\n\u001b[0m\u001b[1;32m   1767\u001b[0m         \u001b[0;32mif\u001b[0m \u001b[0mself\u001b[0m\u001b[0;34m.\u001b[0m\u001b[0m_blit\u001b[0m\u001b[0;34m:\u001b[0m\u001b[0;34m\u001b[0m\u001b[0;34m\u001b[0m\u001b[0m\n\u001b[1;32m   1768\u001b[0m             \u001b[0;32mif\u001b[0m \u001b[0mself\u001b[0m\u001b[0;34m.\u001b[0m\u001b[0m_drawn_artists\u001b[0m \u001b[0;32mis\u001b[0m \u001b[0;32mNone\u001b[0m\u001b[0;34m:\u001b[0m\u001b[0;34m\u001b[0m\u001b[0;34m\u001b[0m\u001b[0m\n",
            "\u001b[0;31mTypeError\u001b[0m: animate() takes 0 positional arguments but 1 was given"
          ]
        },
        {
          "output_type": "display_data",
          "data": {
            "image/png": "[encoded data removed]",
            "text/plain": [
              "<Figure size 432x288 with 1 Axes>"
            ]
          },
          "metadata": {
            "tags": [],
            "needs_background": "dark"
          }
        }
      ]
    },
    {
      "cell_type": "code",
      "metadata": {
        "id": "IzW3Zu7fEMnN",
        "colab_type": "code",
        "colab": {}
      },
      "source": [
        ""
      ],
      "execution_count": 0,
      "outputs": []
    }
  ]
}